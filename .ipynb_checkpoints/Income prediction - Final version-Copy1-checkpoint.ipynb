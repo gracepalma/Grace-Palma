{
 "cells": [
  {
   "cell_type": "markdown",
   "metadata": {},
   "source": [
    "#  Acorns transactional data categorisation"
   ]
  },
  {
   "cell_type": "markdown",
   "metadata": {},
   "source": [
    "### Library import"
   ]
  },
  {
   "cell_type": "code",
   "execution_count": 1,
   "metadata": {
    "collapsed": true
   },
   "outputs": [],
   "source": [
    "#from sklearn.model_selection import train_test_split\n",
    "#from sklearn.tree import DecisionTreeRegressor\n",
    "#import matplotlib.pyplot as plt\n",
    "#from sklearn.model_selection import cross_val_score"
   ]
  },
  {
   "cell_type": "code",
   "execution_count": 1,
   "metadata": {
    "collapsed": true
   },
   "outputs": [],
   "source": [
    "from sklearn import tree\n",
    "import pandas as pd\n",
    "import numpy as np\n",
    "from sklearn.model_selection import train_test_split\n",
    "from sklearn import metrics\n",
    "import matplotlib.pyplot as plt\n",
    "import seaborn as sns\n",
    "\n",
    "%matplotlib inline"
   ]
  },
  {
   "cell_type": "code",
   "execution_count": 14,
   "metadata": {
    "collapsed": false
   },
   "outputs": [
    {
     "data": {
      "text/plain": [
       "['Sheet1']"
      ]
     },
     "execution_count": 14,
     "metadata": {},
     "output_type": "execute_result"
    }
   ],
   "source": [
    "df = pd.ExcelFile('~/Documents/GracePalmaDatSciProject/Grace-Palma/Acorns Transactional Data.xlsx')\n",
    "df.sheet_names"
   ]
  },
  {
   "cell_type": "code",
   "execution_count": 15,
   "metadata": {
    "collapsed": false
   },
   "outputs": [
    {
     "data": {
      "text/html": [
       "<div>\n",
       "<table border=\"1\" class=\"dataframe\">\n",
       "  <thead>\n",
       "    <tr style=\"text-align: right;\">\n",
       "      <th></th>\n",
       "      <th>id</th>\n",
       "      <th>user_id</th>\n",
       "      <th>payer</th>\n",
       "      <th>payee</th>\n",
       "      <th>transaction_id</th>\n",
       "      <th>amount</th>\n",
       "      <th>change</th>\n",
       "      <th>transaction_date</th>\n",
       "      <th>approved</th>\n",
       "      <th>yodlee_item_account_id</th>\n",
       "      <th>...</th>\n",
       "      <th>no_roundups</th>\n",
       "      <th>posted_date</th>\n",
       "      <th>address</th>\n",
       "      <th>city</th>\n",
       "      <th>state</th>\n",
       "      <th>zip</th>\n",
       "      <th>lat</th>\n",
       "      <th>long</th>\n",
       "      <th>removed</th>\n",
       "      <th>account_id</th>\n",
       "    </tr>\n",
       "  </thead>\n",
       "  <tbody>\n",
       "    <tr>\n",
       "      <th>0</th>\n",
       "      <td>35146288</td>\n",
       "      <td>48974</td>\n",
       "      <td>Me</td>\n",
       "      <td>Myki</td>\n",
       "      <td>22186368</td>\n",
       "      <td>10.00</td>\n",
       "      <td>1.00</td>\n",
       "      <td>2016-08-07</td>\n",
       "      <td>NaT</td>\n",
       "      <td>10146274</td>\n",
       "      <td>...</td>\n",
       "      <td>f</td>\n",
       "      <td>2016-08-07</td>\n",
       "      <td>NaN</td>\n",
       "      <td>NaN</td>\n",
       "      <td>NaN</td>\n",
       "      <td>NaN</td>\n",
       "      <td>NaN</td>\n",
       "      <td>NaN</td>\n",
       "      <td>f</td>\n",
       "      <td>10052929</td>\n",
       "    </tr>\n",
       "    <tr>\n",
       "      <th>1</th>\n",
       "      <td>36920797</td>\n",
       "      <td>99631</td>\n",
       "      <td>Me</td>\n",
       "      <td>NaN</td>\n",
       "      <td>101514486</td>\n",
       "      <td>17.00</td>\n",
       "      <td>1.00</td>\n",
       "      <td>2016-07-14</td>\n",
       "      <td>2016-07-19</td>\n",
       "      <td>10314355</td>\n",
       "      <td>...</td>\n",
       "      <td>f</td>\n",
       "      <td>2016-07-14</td>\n",
       "      <td>NaN</td>\n",
       "      <td>NaN</td>\n",
       "      <td>NaN</td>\n",
       "      <td>NaN</td>\n",
       "      <td>NaN</td>\n",
       "      <td>NaN</td>\n",
       "      <td>f</td>\n",
       "      <td>10116115</td>\n",
       "    </tr>\n",
       "    <tr>\n",
       "      <th>2</th>\n",
       "      <td>36920803</td>\n",
       "      <td>99631</td>\n",
       "      <td>Me</td>\n",
       "      <td>NaN</td>\n",
       "      <td>101514485</td>\n",
       "      <td>24.49</td>\n",
       "      <td>0.51</td>\n",
       "      <td>2016-07-14</td>\n",
       "      <td>2016-07-19</td>\n",
       "      <td>10314355</td>\n",
       "      <td>...</td>\n",
       "      <td>f</td>\n",
       "      <td>2016-07-14</td>\n",
       "      <td>NaN</td>\n",
       "      <td>NaN</td>\n",
       "      <td>NaN</td>\n",
       "      <td>NaN</td>\n",
       "      <td>NaN</td>\n",
       "      <td>NaN</td>\n",
       "      <td>f</td>\n",
       "      <td>10116115</td>\n",
       "    </tr>\n",
       "    <tr>\n",
       "      <th>3</th>\n",
       "      <td>87526799</td>\n",
       "      <td>32448</td>\n",
       "      <td>Me</td>\n",
       "      <td>Foodland</td>\n",
       "      <td>270609146</td>\n",
       "      <td>27.80</td>\n",
       "      <td>0.20</td>\n",
       "      <td>2017-01-16</td>\n",
       "      <td>2017-01-18</td>\n",
       "      <td>10099389</td>\n",
       "      <td>...</td>\n",
       "      <td>f</td>\n",
       "      <td>2017-01-16</td>\n",
       "      <td>NaN</td>\n",
       "      <td>NaN</td>\n",
       "      <td>NaN</td>\n",
       "      <td>NaN</td>\n",
       "      <td>NaN</td>\n",
       "      <td>NaN</td>\n",
       "      <td>f</td>\n",
       "      <td>10034028</td>\n",
       "    </tr>\n",
       "    <tr>\n",
       "      <th>4</th>\n",
       "      <td>41680788</td>\n",
       "      <td>60761</td>\n",
       "      <td>Me</td>\n",
       "      <td>NaN</td>\n",
       "      <td>118477460</td>\n",
       "      <td>29.50</td>\n",
       "      <td>0.50</td>\n",
       "      <td>2016-01-08</td>\n",
       "      <td>2016-06-08</td>\n",
       "      <td>10186548</td>\n",
       "      <td>...</td>\n",
       "      <td>f</td>\n",
       "      <td>2016-01-08</td>\n",
       "      <td>NaN</td>\n",
       "      <td>NaN</td>\n",
       "      <td>NaN</td>\n",
       "      <td>NaN</td>\n",
       "      <td>NaN</td>\n",
       "      <td>NaN</td>\n",
       "      <td>f</td>\n",
       "      <td>10068164</td>\n",
       "    </tr>\n",
       "  </tbody>\n",
       "</table>\n",
       "<p>5 rows × 38 columns</p>\n",
       "</div>"
      ],
      "text/plain": [
       "         id  user_id payer     payee  transaction_id  amount  change  \\\n",
       "0  35146288    48974    Me      Myki        22186368   10.00    1.00   \n",
       "1  36920797    99631    Me       NaN       101514486   17.00    1.00   \n",
       "2  36920803    99631    Me       NaN       101514485   24.49    0.51   \n",
       "3  87526799    32448    Me  Foodland       270609146   27.80    0.20   \n",
       "4  41680788    60761    Me       NaN       118477460   29.50    0.50   \n",
       "\n",
       "  transaction_date   approved  yodlee_item_account_id     ...     no_roundups  \\\n",
       "0       2016-08-07        NaT                10146274     ...               f   \n",
       "1       2016-07-14 2016-07-19                10314355     ...               f   \n",
       "2       2016-07-14 2016-07-19                10314355     ...               f   \n",
       "3       2017-01-16 2017-01-18                10099389     ...               f   \n",
       "4       2016-01-08 2016-06-08                10186548     ...               f   \n",
       "\n",
       "   posted_date address city state zip lat long removed  account_id  \n",
       "0   2016-08-07     NaN  NaN   NaN NaN NaN  NaN       f    10052929  \n",
       "1   2016-07-14     NaN  NaN   NaN NaN NaN  NaN       f    10116115  \n",
       "2   2016-07-14     NaN  NaN   NaN NaN NaN  NaN       f    10116115  \n",
       "3   2017-01-16     NaN  NaN   NaN NaN NaN  NaN       f    10034028  \n",
       "4   2016-01-08     NaN  NaN   NaN NaN NaN  NaN       f    10068164  \n",
       "\n",
       "[5 rows x 38 columns]"
      ]
     },
     "execution_count": 15,
     "metadata": {},
     "output_type": "execute_result"
    }
   ],
   "source": [
    "#data file\n",
    "file = df.parse('Sheet1')\n",
    "file.head()"
   ]
  },
  {
   "cell_type": "code",
   "execution_count": 16,
   "metadata": {
    "collapsed": false
   },
   "outputs": [
    {
     "data": {
      "text/plain": [
       "<bound method NDFrame.describe of             id  user_id   payer             payee  transaction_id   amount  \\\n",
       "0     35146288    48974      Me              Myki        22186368    10.00   \n",
       "1     36920797    99631      Me               NaN       101514486    17.00   \n",
       "2     36920803    99631      Me               NaN       101514485    24.49   \n",
       "3     87526799    32448      Me          Foodland       270609146    27.80   \n",
       "4     41680788    60761      Me               NaN       118477460    29.50   \n",
       "5     87526804    32448      Me               NaN       270609145    32.78   \n",
       "6     41680795    60761      Me  Ezidebit Pty Ltd       118477459    27.15   \n",
       "7     41680810    60761      Me          Espresso       118477456     8.30   \n",
       "8    218000000     6405      Me             Coles       568994419     8.50   \n",
       "9    218000000     6405      Me        Woolworths       568994418    11.00   \n",
       "10    35146305    48608      Me               NaN        96883962    44.30   \n",
       "11    35146307    48608      Me          Espresso        96883960     9.00   \n",
       "12    41680815    60761      Me               NaN       118477455    15.88   \n",
       "13    87526811    32448      Me             MITRE       270609143     9.99   \n",
       "14    35146309    48608      Me          Espresso        96883959    10.90   \n",
       "15    62286632    54155      Me          Transfer       197738099   480.00   \n",
       "16    62286669    54155      Me          Transfer       197738098    70.00   \n",
       "17    74410581    85010      Me               NaN       234235284   105.00   \n",
       "18   250000000    34742      Me          Transfer       675200853   200.00   \n",
       "19    36941816    10009      Me            PayPal       102104448    48.69   \n",
       "20    36941817    10009      Me           Synergy       102104447   263.50   \n",
       "21    36941818    10009      Me          Transfer       102104446   190.99   \n",
       "22    36941820    10009      Me         Apple Inc       102104444     8.99   \n",
       "23    36941821    10009      Me            PayPal       102104443    25.00   \n",
       "24    36941822    10009      Me               NaN       102104442    20.00   \n",
       "25    62285239    53100      Me               NaN       198569403    11.00   \n",
       "26    62286591    54155      Me               NaN       197738104    51.60   \n",
       "27    36920910    99779      Me               NaN       101300398     3.70   \n",
       "28   162000000   207224  Salary                Me       397761615  1469.05   \n",
       "29   189000000   280304      Me          Transfer       475357894     2.86   \n",
       "..         ...      ...     ...               ...             ...      ...   \n",
       "470   44951266    78989      Me               NaN       131158095    11.00   \n",
       "471   44951267    78989      Me            Caltex       131158094     5.00   \n",
       "472   74408406    83252      Me      Steampowered        42174446    19.08   \n",
       "473   74408414    83252      Me   Supercheap Auto        42174445    27.77   \n",
       "474   40996139    92900      Me        RMS E-toll       114856655    20.00   \n",
       "475   73042202    27490      Me               NaN       230820230    56.00   \n",
       "476   73042204    27490      Me               NaN       230173986     1.25   \n",
       "477   74408847    83458      Me              BPAY       234448383   675.20   \n",
       "478   74408872    83458      Me               NaN       234448379  1150.15   \n",
       "479   44951269    78989      Me             Coles       131158091     1.80   \n",
       "480    6421057    37345      Me               NaN        18528193    10.00   \n",
       "481   36920986    99845      Me               NaN       101689033     4.90   \n",
       "482   36920993    99845      Me          Transfer       101689029     6.86   \n",
       "483    6421058    37345      Me        Woolworths        18528196    27.95   \n",
       "484  162000000   207088      Me    Wilson Parking       397196156    22.18   \n",
       "485   40996448    92966      Me               NaN       115393086   663.64   \n",
       "486   40996459    92966      Me               NaN       115393085  5720.50   \n",
       "487   89199548    58195      Me          Transfer       273997157    30.00   \n",
       "488   89199551    58195      Me               NaN       273997156    26.90   \n",
       "489   87527015    32553      Me            PayPal        49463645    27.93   \n",
       "490   87527018    32553      Me               NaN        49463647     4.50   \n",
       "491   89199554    58195      Me          Transfer       273997158    50.00   \n",
       "492   35146618    48888      Me         Apple Inc        96686830    22.18   \n",
       "493   40996475    92966      Me               NaN       115393084   441.99   \n",
       "494  162000000   207088      Me               NaN       397196155    37.50   \n",
       "495   35146622    48888      Me               NaN        96686829    92.88   \n",
       "496   42545626    60761      Me               NaN       122104325    10.00   \n",
       "497  162000000   207088      Me               NaN       397216605   200.00   \n",
       "498   36921004    99845      Me               NaN       101689026   202.63   \n",
       "499   36921012    99845      Me               NaN       101689025    70.00   \n",
       "\n",
       "      change transaction_date   approved  yodlee_item_account_id     ...      \\\n",
       "0       1.00       2016-08-07        NaT                10146274     ...       \n",
       "1       1.00       2016-07-14 2016-07-19                10314355     ...       \n",
       "2       0.51       2016-07-14 2016-07-19                10314355     ...       \n",
       "3       0.20       2017-01-16 2017-01-18                10099389     ...       \n",
       "4       0.50       2016-01-08 2016-06-08                10186548     ...       \n",
       "5       0.22       2017-01-16        NaT                10099389     ...       \n",
       "6       0.85       2016-01-08 2016-06-08                10186548     ...       \n",
       "7       0.70       2016-01-08 2016-06-08                10186548     ...       \n",
       "8       0.50       2017-08-14 2017-08-19                10021928     ...       \n",
       "9       0.10       2017-08-14 2017-08-19                10021928     ...       \n",
       "10      0.70       2016-07-07        NaT                10145140     ...       \n",
       "11      1.00       2016-07-07        NaT                10145140     ...       \n",
       "12      0.12       2016-01-08 2016-06-08                10186548     ...       \n",
       "13      0.01       2017-01-16 2017-01-18                10099389     ...       \n",
       "14      0.10       2016-07-07        NaT                10145140     ...       \n",
       "15      1.00       2016-10-24        NaT                10264927     ...       \n",
       "16      1.00       2016-10-24        NaT                10264927     ...       \n",
       "17      1.00       2016-07-12        NaT                10269469     ...       \n",
       "18      1.00       2017-02-10        NaT                10106115     ...       \n",
       "19      0.31       2016-07-18 2016-07-19                10043318     ...       \n",
       "20      0.50       2016-07-18 2016-07-19                10043318     ...       \n",
       "21      0.01       2016-07-18 2016-07-19                10043318     ...       \n",
       "22      0.01       2016-07-18 2016-07-19                10043318     ...       \n",
       "23      1.00       2016-07-18 2016-07-19                10043318     ...       \n",
       "24      1.00       2016-07-18 2016-07-19                10043318     ...       \n",
       "25      1.00       2016-10-25 2016-10-26                10160123     ...       \n",
       "26      0.40       2016-10-24        NaT                10264928     ...       \n",
       "27      0.30       2016-07-17 2016-07-19                10315010     ...       \n",
       "28   1469.05       2017-05-18        NaT                10689666     ...       \n",
       "29      0.14       2017-04-07        NaT                11044427     ...       \n",
       "..       ...              ...        ...                     ...     ...       \n",
       "470     1.00       2016-08-19 2016-08-20                10245388     ...       \n",
       "471     1.00       2016-08-19 2016-08-20                10245388     ...       \n",
       "472     0.92       2016-06-12 2016-08-12                10261232     ...       \n",
       "473     0.23       2016-06-12 2016-08-12                10261232     ...       \n",
       "474     1.00       2016-07-29 2016-03-08                10296359     ...       \n",
       "475     1.00       2016-02-12 2016-03-12                10085598     ...       \n",
       "476     0.75       2016-02-12 2016-03-12                10085598     ...       \n",
       "477     0.80       2016-07-12        NaT                10281988     ...       \n",
       "478     0.85       2016-06-12        NaT                10281985     ...       \n",
       "479     0.20       2016-08-19 2016-08-20                10245388     ...       \n",
       "480     1.00       2015-12-14        NaT                10113617     ...       \n",
       "481     0.10       2016-07-18        NaT                10318640     ...       \n",
       "482     0.14       2016-07-18        NaT                10318640     ...       \n",
       "483     0.05       2015-12-12        NaT                10113617     ...       \n",
       "484     0.82       2017-05-18        NaT                10689244     ...       \n",
       "485     0.36       2016-01-08        NaT                10294665     ...       \n",
       "486     0.50       2016-01-08        NaT                10294665     ...       \n",
       "487     1.00       2017-01-20        NaT                10178104     ...       \n",
       "488     0.10       2017-01-20        NaT                10178104     ...       \n",
       "489     0.07       2017-12-01        NaT                10099713     ...       \n",
       "490     0.50       2017-11-01        NaT                10099713     ...       \n",
       "491     1.00       2017-01-19        NaT                10178104     ...       \n",
       "492     0.82       2016-06-07        NaT                10145974     ...       \n",
       "493     0.01       2016-01-08        NaT                10294665     ...       \n",
       "494     0.50       2017-05-18        NaT                10689244     ...       \n",
       "495     0.12       2016-06-07        NaT                10145974     ...       \n",
       "496     1.00       2016-05-08        NaT                10186548     ...       \n",
       "497     1.00       2017-05-17        NaT                10689305     ...       \n",
       "498     0.37       2016-07-18 2016-07-19                10318639     ...       \n",
       "499     1.00       2016-07-18 2016-07-19                10318639     ...       \n",
       "\n",
       "    no_roundups  posted_date address city state zip lat long removed  \\\n",
       "0             f   2016-08-07     NaN  NaN   NaN NaN NaN  NaN       f   \n",
       "1             f   2016-07-14     NaN  NaN   NaN NaN NaN  NaN       f   \n",
       "2             f   2016-07-14     NaN  NaN   NaN NaN NaN  NaN       f   \n",
       "3             f   2017-01-16     NaN  NaN   NaN NaN NaN  NaN       f   \n",
       "4             f   2016-01-08     NaN  NaN   NaN NaN NaN  NaN       f   \n",
       "5             t   2017-01-16     NaN  NaN   NaN NaN NaN  NaN       f   \n",
       "6             f   2016-01-08     NaN  NaN   NaN NaN NaN  NaN       f   \n",
       "7             f   2016-01-08     NaN  NaN   NaN NaN NaN  NaN       f   \n",
       "8             f   2017-08-14     NaN  NaN   NaN NaN NaN  NaN       f   \n",
       "9             f   2017-08-14     NaN  NaN   NaN NaN NaN  NaN       f   \n",
       "10            f   2016-07-07     NaN  NaN   NaN NaN NaN  NaN       f   \n",
       "11            f   2016-07-07     NaN  NaN   NaN NaN NaN  NaN       f   \n",
       "12            f   2016-01-08     NaN  NaN   NaN NaN NaN  NaN       f   \n",
       "13            f   2017-01-16     NaN  NaN   NaN NaN NaN  NaN       f   \n",
       "14            f   2016-07-07     NaN  NaN   NaN NaN NaN  NaN       f   \n",
       "15            f   2016-10-24     NaN  NaN   NaN NaN NaN  NaN       f   \n",
       "16            f   2016-10-24     NaN  NaN   NaN NaN NaN  NaN       f   \n",
       "17            f   2016-07-12     NaN  NaN   NaN NaN NaN  NaN       f   \n",
       "18            f   2017-02-10     NaN  NaN   NaN NaN NaN  NaN       f   \n",
       "19            f   2016-07-18     NaN  NaN   NaN NaN NaN  NaN       f   \n",
       "20            f   2016-07-18     NaN  NaN   NaN NaN NaN  NaN       f   \n",
       "21            f   2016-07-18     NaN  NaN   NaN NaN NaN  NaN       f   \n",
       "22            f   2016-07-18     NaN  NaN   NaN NaN NaN  NaN       f   \n",
       "23            f   2016-07-18     NaN  NaN   NaN NaN NaN  NaN       f   \n",
       "24            f   2016-07-18     NaN  NaN   NaN NaN NaN  NaN       f   \n",
       "25            f   2016-10-25     NaN  NaN   NaN NaN NaN  NaN       f   \n",
       "26            f   2016-10-24     NaN  NaN   NaN NaN NaN  NaN       f   \n",
       "27            f   2016-07-17     NaN  NaN   NaN NaN NaN  NaN       f   \n",
       "28            f   2017-05-18     NaN  NaN   NaN NaN NaN  NaN       f   \n",
       "29            f   2017-04-07     NaN  NaN   NaN NaN NaN  NaN       f   \n",
       "..          ...          ...     ...  ...   ...  ..  ..  ...     ...   \n",
       "470           f   2016-08-19     NaN  NaN   NaN NaN NaN  NaN       f   \n",
       "471           f   2016-08-19     NaN  NaN   NaN NaN NaN  NaN       f   \n",
       "472           f   2016-06-12     NaN  NaN   NaN NaN NaN  NaN       f   \n",
       "473           f   2016-06-12     NaN  NaN   NaN NaN NaN  NaN       f   \n",
       "474           f   2016-07-29     NaN  NaN   NaN NaN NaN  NaN       f   \n",
       "475           f   2016-02-12     NaN  NaN   NaN NaN NaN  NaN       f   \n",
       "476           f   2016-02-12     NaN  NaN   NaN NaN NaN  NaN       f   \n",
       "477           f   2016-07-12     NaN  NaN   NaN NaN NaN  NaN       f   \n",
       "478           f   2016-06-12     NaN  NaN   NaN NaN NaN  NaN       f   \n",
       "479           f   2016-08-19     NaN  NaN   NaN NaN NaN  NaN       f   \n",
       "480           f   2015-12-14     NaN  NaN   NaN NaN NaN  NaN       f   \n",
       "481           f   2016-07-18     NaN  NaN   NaN NaN NaN  NaN       f   \n",
       "482           f   2016-07-18     NaN  NaN   NaN NaN NaN  NaN       f   \n",
       "483           f   2015-12-12     NaN  NaN   NaN NaN NaN  NaN       f   \n",
       "484           f   2017-05-18     NaN  NaN   NaN NaN NaN  NaN       f   \n",
       "485           f   2016-01-08     NaN  NaN   NaN NaN NaN  NaN       f   \n",
       "486           f   2016-01-08     NaN  NaN   NaN NaN NaN  NaN       f   \n",
       "487           f   2017-01-20     NaN  NaN   NaN NaN NaN  NaN       f   \n",
       "488           f   2017-01-20     NaN  NaN   NaN NaN NaN  NaN       f   \n",
       "489           f   2017-12-01     NaN  NaN   NaN NaN NaN  NaN       f   \n",
       "490           f   2017-11-01     NaN  NaN   NaN NaN NaN  NaN       f   \n",
       "491           f   2017-01-19     NaN  NaN   NaN NaN NaN  NaN       f   \n",
       "492           f   2016-06-07     NaN  NaN   NaN NaN NaN  NaN       f   \n",
       "493           f   2016-01-08     NaN  NaN   NaN NaN NaN  NaN       f   \n",
       "494           f   2017-05-18     NaN  NaN   NaN NaN NaN  NaN       f   \n",
       "495           f   2016-06-07     NaN  NaN   NaN NaN NaN  NaN       f   \n",
       "496           f   2016-05-08     NaN  NaN   NaN NaN NaN  NaN       f   \n",
       "497           f   2017-05-17     NaN  NaN   NaN NaN NaN  NaN       f   \n",
       "498           f   2016-07-18     NaN  NaN   NaN NaN NaN  NaN       f   \n",
       "499           f   2016-07-18     NaN  NaN   NaN NaN NaN  NaN       f   \n",
       "\n",
       "     account_id  \n",
       "0      10052929  \n",
       "1      10116115  \n",
       "2      10116115  \n",
       "3      10034028  \n",
       "4      10068164  \n",
       "5      10034028  \n",
       "6      10068164  \n",
       "7      10068164  \n",
       "8      10007570  \n",
       "9      10007570  \n",
       "10     10052581  \n",
       "11     10052581  \n",
       "12     10068164  \n",
       "13     10034028  \n",
       "14     10052581  \n",
       "15     10097236  \n",
       "16     10097236  \n",
       "17     10098867  \n",
       "18     10036434  \n",
       "19     10014981  \n",
       "20     10014981  \n",
       "21     10014981  \n",
       "22     10014981  \n",
       "23     10014981  \n",
       "24     10014981  \n",
       "25     10058402  \n",
       "26     10097236  \n",
       "27     10116360  \n",
       "28     10264988  \n",
       "29     10409736  \n",
       "..          ...  \n",
       "470    10090005  \n",
       "471    10090005  \n",
       "472    10095838  \n",
       "473    10095838  \n",
       "474    10108967  \n",
       "475    10029196  \n",
       "476    10029196  \n",
       "477    10103154  \n",
       "478    10103154  \n",
       "479    10090005  \n",
       "480    10039114  \n",
       "481    10118031  \n",
       "482    10118031  \n",
       "483    10039114  \n",
       "484    10264799  \n",
       "485    10108365  \n",
       "486    10108365  \n",
       "487    10064912  \n",
       "488    10064912  \n",
       "489    10034181  \n",
       "490    10034181  \n",
       "491    10064912  \n",
       "492    10052840  \n",
       "493    10108365  \n",
       "494    10264799  \n",
       "495    10052840  \n",
       "496    10068164  \n",
       "497    10265027  \n",
       "498    10118031  \n",
       "499    10118031  \n",
       "\n",
       "[500 rows x 38 columns]>"
      ]
     },
     "execution_count": 16,
     "metadata": {},
     "output_type": "execute_result"
    }
   ],
   "source": [
    "#types of columns\n",
    "file.describe"
   ]
  },
  {
   "cell_type": "code",
   "execution_count": 7,
   "metadata": {
    "collapsed": false
   },
   "outputs": [
    {
     "name": "stdout",
     "output_type": "stream",
     "text": [
      "[1 0]\n",
      "[16  0 22 23 24 19 11  5 28  1 32  6  4 31 10 26 15  8 17 21  7 25  2 12 30\n",
      " 14 33 20 29  9  3 18 27 13]\n",
      "[1 0]\n",
      "[2 0 1 5 4 3]\n",
      "[22  0 57 42 37 67 47 62 32 52 21 16]\n",
      "[1 0]\n",
      "['Above 80' nan]\n",
      "[nan 'Mortgage' 'Renting' 'Home own' 'Other']\n"
     ]
    }
   ],
   "source": [
    "# Check the unique values of categorical (string / objects) variables:\n",
    "print(file['Employment'].unique())\n",
    "print(file['Industry'].unique())\n",
    "print(file['BDM'].unique())\n",
    "print(file['Work_type'].unique())\n",
    "print(file['Age'].unique())\n",
    "print(file['Qualified'].unique())\n",
    "print(file['Salary'].unique())\n",
    "print(file['Home_status'].unique())"
   ]
  },
  {
   "cell_type": "code",
   "execution_count": 19,
   "metadata": {
    "collapsed": false
   },
   "outputs": [
    {
     "data": {
      "text/html": [
       "<div>\n",
       "<table border=\"1\" class=\"dataframe\">\n",
       "  <thead>\n",
       "    <tr style=\"text-align: right;\">\n",
       "      <th></th>\n",
       "      <th>id</th>\n",
       "      <th>user_id</th>\n",
       "      <th>transaction_id</th>\n",
       "      <th>amount</th>\n",
       "      <th>change</th>\n",
       "      <th>yodlee_item_account_id</th>\n",
       "      <th>investment_id</th>\n",
       "      <th>account_number</th>\n",
       "      <th>currency_type</th>\n",
       "      <th>institution_transaction_id</th>\n",
       "      <th>sic_code</th>\n",
       "      <th>normalized_payee_name</th>\n",
       "      <th>schedule_c_code</th>\n",
       "      <th>address</th>\n",
       "      <th>city</th>\n",
       "      <th>state</th>\n",
       "      <th>zip</th>\n",
       "      <th>lat</th>\n",
       "      <th>long</th>\n",
       "      <th>account_id</th>\n",
       "    </tr>\n",
       "  </thead>\n",
       "  <tbody>\n",
       "    <tr>\n",
       "      <th>id</th>\n",
       "      <td>1.000000</td>\n",
       "      <td>0.370302</td>\n",
       "      <td>0.834600</td>\n",
       "      <td>0.037994</td>\n",
       "      <td>0.178290</td>\n",
       "      <td>0.419458</td>\n",
       "      <td>0.992398</td>\n",
       "      <td>0.419458</td>\n",
       "      <td>NaN</td>\n",
       "      <td>NaN</td>\n",
       "      <td>NaN</td>\n",
       "      <td>NaN</td>\n",
       "      <td>NaN</td>\n",
       "      <td>NaN</td>\n",
       "      <td>NaN</td>\n",
       "      <td>NaN</td>\n",
       "      <td>NaN</td>\n",
       "      <td>NaN</td>\n",
       "      <td>NaN</td>\n",
       "      <td>0.429631</td>\n",
       "    </tr>\n",
       "    <tr>\n",
       "      <th>user_id</th>\n",
       "      <td>0.370302</td>\n",
       "      <td>1.000000</td>\n",
       "      <td>0.285086</td>\n",
       "      <td>0.060149</td>\n",
       "      <td>0.233633</td>\n",
       "      <td>0.951990</td>\n",
       "      <td>-0.275292</td>\n",
       "      <td>0.951990</td>\n",
       "      <td>NaN</td>\n",
       "      <td>NaN</td>\n",
       "      <td>NaN</td>\n",
       "      <td>NaN</td>\n",
       "      <td>NaN</td>\n",
       "      <td>NaN</td>\n",
       "      <td>NaN</td>\n",
       "      <td>NaN</td>\n",
       "      <td>NaN</td>\n",
       "      <td>NaN</td>\n",
       "      <td>NaN</td>\n",
       "      <td>0.954297</td>\n",
       "    </tr>\n",
       "    <tr>\n",
       "      <th>transaction_id</th>\n",
       "      <td>0.834600</td>\n",
       "      <td>0.285086</td>\n",
       "      <td>1.000000</td>\n",
       "      <td>0.001604</td>\n",
       "      <td>0.170315</td>\n",
       "      <td>0.262823</td>\n",
       "      <td>0.880527</td>\n",
       "      <td>0.262823</td>\n",
       "      <td>NaN</td>\n",
       "      <td>NaN</td>\n",
       "      <td>NaN</td>\n",
       "      <td>NaN</td>\n",
       "      <td>NaN</td>\n",
       "      <td>NaN</td>\n",
       "      <td>NaN</td>\n",
       "      <td>NaN</td>\n",
       "      <td>NaN</td>\n",
       "      <td>NaN</td>\n",
       "      <td>NaN</td>\n",
       "      <td>0.273364</td>\n",
       "    </tr>\n",
       "    <tr>\n",
       "      <th>amount</th>\n",
       "      <td>0.037994</td>\n",
       "      <td>0.060149</td>\n",
       "      <td>0.001604</td>\n",
       "      <td>1.000000</td>\n",
       "      <td>0.163830</td>\n",
       "      <td>0.050821</td>\n",
       "      <td>-0.108303</td>\n",
       "      <td>0.050821</td>\n",
       "      <td>NaN</td>\n",
       "      <td>NaN</td>\n",
       "      <td>NaN</td>\n",
       "      <td>NaN</td>\n",
       "      <td>NaN</td>\n",
       "      <td>NaN</td>\n",
       "      <td>NaN</td>\n",
       "      <td>NaN</td>\n",
       "      <td>NaN</td>\n",
       "      <td>NaN</td>\n",
       "      <td>NaN</td>\n",
       "      <td>0.050295</td>\n",
       "    </tr>\n",
       "    <tr>\n",
       "      <th>change</th>\n",
       "      <td>0.178290</td>\n",
       "      <td>0.233633</td>\n",
       "      <td>0.170315</td>\n",
       "      <td>0.163830</td>\n",
       "      <td>1.000000</td>\n",
       "      <td>0.229499</td>\n",
       "      <td>-0.285508</td>\n",
       "      <td>0.229499</td>\n",
       "      <td>NaN</td>\n",
       "      <td>NaN</td>\n",
       "      <td>NaN</td>\n",
       "      <td>NaN</td>\n",
       "      <td>NaN</td>\n",
       "      <td>NaN</td>\n",
       "      <td>NaN</td>\n",
       "      <td>NaN</td>\n",
       "      <td>NaN</td>\n",
       "      <td>NaN</td>\n",
       "      <td>NaN</td>\n",
       "      <td>0.232874</td>\n",
       "    </tr>\n",
       "    <tr>\n",
       "      <th>yodlee_item_account_id</th>\n",
       "      <td>0.419458</td>\n",
       "      <td>0.951990</td>\n",
       "      <td>0.262823</td>\n",
       "      <td>0.050821</td>\n",
       "      <td>0.229499</td>\n",
       "      <td>1.000000</td>\n",
       "      <td>-0.237147</td>\n",
       "      <td>1.000000</td>\n",
       "      <td>NaN</td>\n",
       "      <td>NaN</td>\n",
       "      <td>NaN</td>\n",
       "      <td>NaN</td>\n",
       "      <td>NaN</td>\n",
       "      <td>NaN</td>\n",
       "      <td>NaN</td>\n",
       "      <td>NaN</td>\n",
       "      <td>NaN</td>\n",
       "      <td>NaN</td>\n",
       "      <td>NaN</td>\n",
       "      <td>0.998958</td>\n",
       "    </tr>\n",
       "    <tr>\n",
       "      <th>investment_id</th>\n",
       "      <td>0.992398</td>\n",
       "      <td>-0.275292</td>\n",
       "      <td>0.880527</td>\n",
       "      <td>-0.108303</td>\n",
       "      <td>-0.285508</td>\n",
       "      <td>-0.237147</td>\n",
       "      <td>1.000000</td>\n",
       "      <td>-0.237147</td>\n",
       "      <td>NaN</td>\n",
       "      <td>NaN</td>\n",
       "      <td>NaN</td>\n",
       "      <td>NaN</td>\n",
       "      <td>NaN</td>\n",
       "      <td>NaN</td>\n",
       "      <td>NaN</td>\n",
       "      <td>NaN</td>\n",
       "      <td>NaN</td>\n",
       "      <td>NaN</td>\n",
       "      <td>NaN</td>\n",
       "      <td>-0.230348</td>\n",
       "    </tr>\n",
       "    <tr>\n",
       "      <th>account_number</th>\n",
       "      <td>0.419458</td>\n",
       "      <td>0.951990</td>\n",
       "      <td>0.262823</td>\n",
       "      <td>0.050821</td>\n",
       "      <td>0.229499</td>\n",
       "      <td>1.000000</td>\n",
       "      <td>-0.237147</td>\n",
       "      <td>1.000000</td>\n",
       "      <td>NaN</td>\n",
       "      <td>NaN</td>\n",
       "      <td>NaN</td>\n",
       "      <td>NaN</td>\n",
       "      <td>NaN</td>\n",
       "      <td>NaN</td>\n",
       "      <td>NaN</td>\n",
       "      <td>NaN</td>\n",
       "      <td>NaN</td>\n",
       "      <td>NaN</td>\n",
       "      <td>NaN</td>\n",
       "      <td>0.998958</td>\n",
       "    </tr>\n",
       "    <tr>\n",
       "      <th>currency_type</th>\n",
       "      <td>NaN</td>\n",
       "      <td>NaN</td>\n",
       "      <td>NaN</td>\n",
       "      <td>NaN</td>\n",
       "      <td>NaN</td>\n",
       "      <td>NaN</td>\n",
       "      <td>NaN</td>\n",
       "      <td>NaN</td>\n",
       "      <td>NaN</td>\n",
       "      <td>NaN</td>\n",
       "      <td>NaN</td>\n",
       "      <td>NaN</td>\n",
       "      <td>NaN</td>\n",
       "      <td>NaN</td>\n",
       "      <td>NaN</td>\n",
       "      <td>NaN</td>\n",
       "      <td>NaN</td>\n",
       "      <td>NaN</td>\n",
       "      <td>NaN</td>\n",
       "      <td>NaN</td>\n",
       "    </tr>\n",
       "    <tr>\n",
       "      <th>institution_transaction_id</th>\n",
       "      <td>NaN</td>\n",
       "      <td>NaN</td>\n",
       "      <td>NaN</td>\n",
       "      <td>NaN</td>\n",
       "      <td>NaN</td>\n",
       "      <td>NaN</td>\n",
       "      <td>NaN</td>\n",
       "      <td>NaN</td>\n",
       "      <td>NaN</td>\n",
       "      <td>NaN</td>\n",
       "      <td>NaN</td>\n",
       "      <td>NaN</td>\n",
       "      <td>NaN</td>\n",
       "      <td>NaN</td>\n",
       "      <td>NaN</td>\n",
       "      <td>NaN</td>\n",
       "      <td>NaN</td>\n",
       "      <td>NaN</td>\n",
       "      <td>NaN</td>\n",
       "      <td>NaN</td>\n",
       "    </tr>\n",
       "    <tr>\n",
       "      <th>sic_code</th>\n",
       "      <td>NaN</td>\n",
       "      <td>NaN</td>\n",
       "      <td>NaN</td>\n",
       "      <td>NaN</td>\n",
       "      <td>NaN</td>\n",
       "      <td>NaN</td>\n",
       "      <td>NaN</td>\n",
       "      <td>NaN</td>\n",
       "      <td>NaN</td>\n",
       "      <td>NaN</td>\n",
       "      <td>NaN</td>\n",
       "      <td>NaN</td>\n",
       "      <td>NaN</td>\n",
       "      <td>NaN</td>\n",
       "      <td>NaN</td>\n",
       "      <td>NaN</td>\n",
       "      <td>NaN</td>\n",
       "      <td>NaN</td>\n",
       "      <td>NaN</td>\n",
       "      <td>NaN</td>\n",
       "    </tr>\n",
       "    <tr>\n",
       "      <th>normalized_payee_name</th>\n",
       "      <td>NaN</td>\n",
       "      <td>NaN</td>\n",
       "      <td>NaN</td>\n",
       "      <td>NaN</td>\n",
       "      <td>NaN</td>\n",
       "      <td>NaN</td>\n",
       "      <td>NaN</td>\n",
       "      <td>NaN</td>\n",
       "      <td>NaN</td>\n",
       "      <td>NaN</td>\n",
       "      <td>NaN</td>\n",
       "      <td>NaN</td>\n",
       "      <td>NaN</td>\n",
       "      <td>NaN</td>\n",
       "      <td>NaN</td>\n",
       "      <td>NaN</td>\n",
       "      <td>NaN</td>\n",
       "      <td>NaN</td>\n",
       "      <td>NaN</td>\n",
       "      <td>NaN</td>\n",
       "    </tr>\n",
       "    <tr>\n",
       "      <th>schedule_c_code</th>\n",
       "      <td>NaN</td>\n",
       "      <td>NaN</td>\n",
       "      <td>NaN</td>\n",
       "      <td>NaN</td>\n",
       "      <td>NaN</td>\n",
       "      <td>NaN</td>\n",
       "      <td>NaN</td>\n",
       "      <td>NaN</td>\n",
       "      <td>NaN</td>\n",
       "      <td>NaN</td>\n",
       "      <td>NaN</td>\n",
       "      <td>NaN</td>\n",
       "      <td>NaN</td>\n",
       "      <td>NaN</td>\n",
       "      <td>NaN</td>\n",
       "      <td>NaN</td>\n",
       "      <td>NaN</td>\n",
       "      <td>NaN</td>\n",
       "      <td>NaN</td>\n",
       "      <td>NaN</td>\n",
       "    </tr>\n",
       "    <tr>\n",
       "      <th>address</th>\n",
       "      <td>NaN</td>\n",
       "      <td>NaN</td>\n",
       "      <td>NaN</td>\n",
       "      <td>NaN</td>\n",
       "      <td>NaN</td>\n",
       "      <td>NaN</td>\n",
       "      <td>NaN</td>\n",
       "      <td>NaN</td>\n",
       "      <td>NaN</td>\n",
       "      <td>NaN</td>\n",
       "      <td>NaN</td>\n",
       "      <td>NaN</td>\n",
       "      <td>NaN</td>\n",
       "      <td>NaN</td>\n",
       "      <td>NaN</td>\n",
       "      <td>NaN</td>\n",
       "      <td>NaN</td>\n",
       "      <td>NaN</td>\n",
       "      <td>NaN</td>\n",
       "      <td>NaN</td>\n",
       "    </tr>\n",
       "    <tr>\n",
       "      <th>city</th>\n",
       "      <td>NaN</td>\n",
       "      <td>NaN</td>\n",
       "      <td>NaN</td>\n",
       "      <td>NaN</td>\n",
       "      <td>NaN</td>\n",
       "      <td>NaN</td>\n",
       "      <td>NaN</td>\n",
       "      <td>NaN</td>\n",
       "      <td>NaN</td>\n",
       "      <td>NaN</td>\n",
       "      <td>NaN</td>\n",
       "      <td>NaN</td>\n",
       "      <td>NaN</td>\n",
       "      <td>NaN</td>\n",
       "      <td>NaN</td>\n",
       "      <td>NaN</td>\n",
       "      <td>NaN</td>\n",
       "      <td>NaN</td>\n",
       "      <td>NaN</td>\n",
       "      <td>NaN</td>\n",
       "    </tr>\n",
       "    <tr>\n",
       "      <th>state</th>\n",
       "      <td>NaN</td>\n",
       "      <td>NaN</td>\n",
       "      <td>NaN</td>\n",
       "      <td>NaN</td>\n",
       "      <td>NaN</td>\n",
       "      <td>NaN</td>\n",
       "      <td>NaN</td>\n",
       "      <td>NaN</td>\n",
       "      <td>NaN</td>\n",
       "      <td>NaN</td>\n",
       "      <td>NaN</td>\n",
       "      <td>NaN</td>\n",
       "      <td>NaN</td>\n",
       "      <td>NaN</td>\n",
       "      <td>NaN</td>\n",
       "      <td>NaN</td>\n",
       "      <td>NaN</td>\n",
       "      <td>NaN</td>\n",
       "      <td>NaN</td>\n",
       "      <td>NaN</td>\n",
       "    </tr>\n",
       "    <tr>\n",
       "      <th>zip</th>\n",
       "      <td>NaN</td>\n",
       "      <td>NaN</td>\n",
       "      <td>NaN</td>\n",
       "      <td>NaN</td>\n",
       "      <td>NaN</td>\n",
       "      <td>NaN</td>\n",
       "      <td>NaN</td>\n",
       "      <td>NaN</td>\n",
       "      <td>NaN</td>\n",
       "      <td>NaN</td>\n",
       "      <td>NaN</td>\n",
       "      <td>NaN</td>\n",
       "      <td>NaN</td>\n",
       "      <td>NaN</td>\n",
       "      <td>NaN</td>\n",
       "      <td>NaN</td>\n",
       "      <td>NaN</td>\n",
       "      <td>NaN</td>\n",
       "      <td>NaN</td>\n",
       "      <td>NaN</td>\n",
       "    </tr>\n",
       "    <tr>\n",
       "      <th>lat</th>\n",
       "      <td>NaN</td>\n",
       "      <td>NaN</td>\n",
       "      <td>NaN</td>\n",
       "      <td>NaN</td>\n",
       "      <td>NaN</td>\n",
       "      <td>NaN</td>\n",
       "      <td>NaN</td>\n",
       "      <td>NaN</td>\n",
       "      <td>NaN</td>\n",
       "      <td>NaN</td>\n",
       "      <td>NaN</td>\n",
       "      <td>NaN</td>\n",
       "      <td>NaN</td>\n",
       "      <td>NaN</td>\n",
       "      <td>NaN</td>\n",
       "      <td>NaN</td>\n",
       "      <td>NaN</td>\n",
       "      <td>NaN</td>\n",
       "      <td>NaN</td>\n",
       "      <td>NaN</td>\n",
       "    </tr>\n",
       "    <tr>\n",
       "      <th>long</th>\n",
       "      <td>NaN</td>\n",
       "      <td>NaN</td>\n",
       "      <td>NaN</td>\n",
       "      <td>NaN</td>\n",
       "      <td>NaN</td>\n",
       "      <td>NaN</td>\n",
       "      <td>NaN</td>\n",
       "      <td>NaN</td>\n",
       "      <td>NaN</td>\n",
       "      <td>NaN</td>\n",
       "      <td>NaN</td>\n",
       "      <td>NaN</td>\n",
       "      <td>NaN</td>\n",
       "      <td>NaN</td>\n",
       "      <td>NaN</td>\n",
       "      <td>NaN</td>\n",
       "      <td>NaN</td>\n",
       "      <td>NaN</td>\n",
       "      <td>NaN</td>\n",
       "      <td>NaN</td>\n",
       "    </tr>\n",
       "    <tr>\n",
       "      <th>account_id</th>\n",
       "      <td>0.429631</td>\n",
       "      <td>0.954297</td>\n",
       "      <td>0.273364</td>\n",
       "      <td>0.050295</td>\n",
       "      <td>0.232874</td>\n",
       "      <td>0.998958</td>\n",
       "      <td>-0.230348</td>\n",
       "      <td>0.998958</td>\n",
       "      <td>NaN</td>\n",
       "      <td>NaN</td>\n",
       "      <td>NaN</td>\n",
       "      <td>NaN</td>\n",
       "      <td>NaN</td>\n",
       "      <td>NaN</td>\n",
       "      <td>NaN</td>\n",
       "      <td>NaN</td>\n",
       "      <td>NaN</td>\n",
       "      <td>NaN</td>\n",
       "      <td>NaN</td>\n",
       "      <td>1.000000</td>\n",
       "    </tr>\n",
       "  </tbody>\n",
       "</table>\n",
       "</div>"
      ],
      "text/plain": [
       "                                  id   user_id  transaction_id    amount  \\\n",
       "id                          1.000000  0.370302        0.834600  0.037994   \n",
       "user_id                     0.370302  1.000000        0.285086  0.060149   \n",
       "transaction_id              0.834600  0.285086        1.000000  0.001604   \n",
       "amount                      0.037994  0.060149        0.001604  1.000000   \n",
       "change                      0.178290  0.233633        0.170315  0.163830   \n",
       "yodlee_item_account_id      0.419458  0.951990        0.262823  0.050821   \n",
       "investment_id               0.992398 -0.275292        0.880527 -0.108303   \n",
       "account_number              0.419458  0.951990        0.262823  0.050821   \n",
       "currency_type                    NaN       NaN             NaN       NaN   \n",
       "institution_transaction_id       NaN       NaN             NaN       NaN   \n",
       "sic_code                         NaN       NaN             NaN       NaN   \n",
       "normalized_payee_name            NaN       NaN             NaN       NaN   \n",
       "schedule_c_code                  NaN       NaN             NaN       NaN   \n",
       "address                          NaN       NaN             NaN       NaN   \n",
       "city                             NaN       NaN             NaN       NaN   \n",
       "state                            NaN       NaN             NaN       NaN   \n",
       "zip                              NaN       NaN             NaN       NaN   \n",
       "lat                              NaN       NaN             NaN       NaN   \n",
       "long                             NaN       NaN             NaN       NaN   \n",
       "account_id                  0.429631  0.954297        0.273364  0.050295   \n",
       "\n",
       "                              change  yodlee_item_account_id  investment_id  \\\n",
       "id                          0.178290                0.419458       0.992398   \n",
       "user_id                     0.233633                0.951990      -0.275292   \n",
       "transaction_id              0.170315                0.262823       0.880527   \n",
       "amount                      0.163830                0.050821      -0.108303   \n",
       "change                      1.000000                0.229499      -0.285508   \n",
       "yodlee_item_account_id      0.229499                1.000000      -0.237147   \n",
       "investment_id              -0.285508               -0.237147       1.000000   \n",
       "account_number              0.229499                1.000000      -0.237147   \n",
       "currency_type                    NaN                     NaN            NaN   \n",
       "institution_transaction_id       NaN                     NaN            NaN   \n",
       "sic_code                         NaN                     NaN            NaN   \n",
       "normalized_payee_name            NaN                     NaN            NaN   \n",
       "schedule_c_code                  NaN                     NaN            NaN   \n",
       "address                          NaN                     NaN            NaN   \n",
       "city                             NaN                     NaN            NaN   \n",
       "state                            NaN                     NaN            NaN   \n",
       "zip                              NaN                     NaN            NaN   \n",
       "lat                              NaN                     NaN            NaN   \n",
       "long                             NaN                     NaN            NaN   \n",
       "account_id                  0.232874                0.998958      -0.230348   \n",
       "\n",
       "                            account_number  currency_type  \\\n",
       "id                                0.419458            NaN   \n",
       "user_id                           0.951990            NaN   \n",
       "transaction_id                    0.262823            NaN   \n",
       "amount                            0.050821            NaN   \n",
       "change                            0.229499            NaN   \n",
       "yodlee_item_account_id            1.000000            NaN   \n",
       "investment_id                    -0.237147            NaN   \n",
       "account_number                    1.000000            NaN   \n",
       "currency_type                          NaN            NaN   \n",
       "institution_transaction_id             NaN            NaN   \n",
       "sic_code                               NaN            NaN   \n",
       "normalized_payee_name                  NaN            NaN   \n",
       "schedule_c_code                        NaN            NaN   \n",
       "address                                NaN            NaN   \n",
       "city                                   NaN            NaN   \n",
       "state                                  NaN            NaN   \n",
       "zip                                    NaN            NaN   \n",
       "lat                                    NaN            NaN   \n",
       "long                                   NaN            NaN   \n",
       "account_id                        0.998958            NaN   \n",
       "\n",
       "                            institution_transaction_id  sic_code  \\\n",
       "id                                                 NaN       NaN   \n",
       "user_id                                            NaN       NaN   \n",
       "transaction_id                                     NaN       NaN   \n",
       "amount                                             NaN       NaN   \n",
       "change                                             NaN       NaN   \n",
       "yodlee_item_account_id                             NaN       NaN   \n",
       "investment_id                                      NaN       NaN   \n",
       "account_number                                     NaN       NaN   \n",
       "currency_type                                      NaN       NaN   \n",
       "institution_transaction_id                         NaN       NaN   \n",
       "sic_code                                           NaN       NaN   \n",
       "normalized_payee_name                              NaN       NaN   \n",
       "schedule_c_code                                    NaN       NaN   \n",
       "address                                            NaN       NaN   \n",
       "city                                               NaN       NaN   \n",
       "state                                              NaN       NaN   \n",
       "zip                                                NaN       NaN   \n",
       "lat                                                NaN       NaN   \n",
       "long                                               NaN       NaN   \n",
       "account_id                                         NaN       NaN   \n",
       "\n",
       "                            normalized_payee_name  schedule_c_code  address  \\\n",
       "id                                            NaN              NaN      NaN   \n",
       "user_id                                       NaN              NaN      NaN   \n",
       "transaction_id                                NaN              NaN      NaN   \n",
       "amount                                        NaN              NaN      NaN   \n",
       "change                                        NaN              NaN      NaN   \n",
       "yodlee_item_account_id                        NaN              NaN      NaN   \n",
       "investment_id                                 NaN              NaN      NaN   \n",
       "account_number                                NaN              NaN      NaN   \n",
       "currency_type                                 NaN              NaN      NaN   \n",
       "institution_transaction_id                    NaN              NaN      NaN   \n",
       "sic_code                                      NaN              NaN      NaN   \n",
       "normalized_payee_name                         NaN              NaN      NaN   \n",
       "schedule_c_code                               NaN              NaN      NaN   \n",
       "address                                       NaN              NaN      NaN   \n",
       "city                                          NaN              NaN      NaN   \n",
       "state                                         NaN              NaN      NaN   \n",
       "zip                                           NaN              NaN      NaN   \n",
       "lat                                           NaN              NaN      NaN   \n",
       "long                                          NaN              NaN      NaN   \n",
       "account_id                                    NaN              NaN      NaN   \n",
       "\n",
       "                            city  state  zip  lat  long  account_id  \n",
       "id                           NaN    NaN  NaN  NaN   NaN    0.429631  \n",
       "user_id                      NaN    NaN  NaN  NaN   NaN    0.954297  \n",
       "transaction_id               NaN    NaN  NaN  NaN   NaN    0.273364  \n",
       "amount                       NaN    NaN  NaN  NaN   NaN    0.050295  \n",
       "change                       NaN    NaN  NaN  NaN   NaN    0.232874  \n",
       "yodlee_item_account_id       NaN    NaN  NaN  NaN   NaN    0.998958  \n",
       "investment_id                NaN    NaN  NaN  NaN   NaN   -0.230348  \n",
       "account_number               NaN    NaN  NaN  NaN   NaN    0.998958  \n",
       "currency_type                NaN    NaN  NaN  NaN   NaN         NaN  \n",
       "institution_transaction_id   NaN    NaN  NaN  NaN   NaN         NaN  \n",
       "sic_code                     NaN    NaN  NaN  NaN   NaN         NaN  \n",
       "normalized_payee_name        NaN    NaN  NaN  NaN   NaN         NaN  \n",
       "schedule_c_code              NaN    NaN  NaN  NaN   NaN         NaN  \n",
       "address                      NaN    NaN  NaN  NaN   NaN         NaN  \n",
       "city                         NaN    NaN  NaN  NaN   NaN         NaN  \n",
       "state                        NaN    NaN  NaN  NaN   NaN         NaN  \n",
       "zip                          NaN    NaN  NaN  NaN   NaN         NaN  \n",
       "lat                          NaN    NaN  NaN  NaN   NaN         NaN  \n",
       "long                         NaN    NaN  NaN  NaN   NaN         NaN  \n",
       "account_id                   NaN    NaN  NaN  NaN   NaN    1.000000  "
      ]
     },
     "execution_count": 19,
     "metadata": {},
     "output_type": "execute_result"
    }
   ],
   "source": [
    "# Plot a Correlation Matrix original file:\n",
    "corr = file.corr()\n",
    "corr = (corr)\n",
    "corr"
   ]
  },
  {
   "cell_type": "code",
   "execution_count": null,
   "metadata": {
    "collapsed": true
   },
   "outputs": [],
   "source": []
  },
  {
   "cell_type": "code",
   "execution_count": 20,
   "metadata": {
    "collapsed": false
   },
   "outputs": [
    {
     "data": {
      "text/plain": [
       "<matplotlib.text.Text at 0x114f8cdd8>"
      ]
     },
     "execution_count": 20,
     "metadata": {},
     "output_type": "execute_result"
    },
    {
     "data": {
      "image/png": "[encoded data removed]",
      "text/plain": [
       "<matplotlib.figure.Figure at 0x111a9e710>"
      ]
     },
     "metadata": {},
     "output_type": "display_data"
    }
   ],
   "source": [
    "#heatmap original file\n",
    "plt.figure(figsize = (10,8))\n",
    "sns.heatmap(corr, xticklabels=corr.columns.values, yticklabels=corr.columns.values)\n",
    "sns.plt.title('Heatmap of Correlation Matrix')"
   ]
  },
  {
   "cell_type": "code",
   "execution_count": 10,
   "metadata": {
    "collapsed": false
   },
   "outputs": [
    {
     "data": {
      "text/html": [
       "<div>\n",
       "<table border=\"1\" class=\"dataframe\">\n",
       "  <thead>\n",
       "    <tr style=\"text-align: right;\">\n",
       "      <th></th>\n",
       "      <th>Income</th>\n",
       "    </tr>\n",
       "  </thead>\n",
       "  <tbody>\n",
       "    <tr>\n",
       "      <th>Employment</th>\n",
       "      <td>0.418967</td>\n",
       "    </tr>\n",
       "    <tr>\n",
       "      <th>Industry</th>\n",
       "      <td>0.342959</td>\n",
       "    </tr>\n",
       "    <tr>\n",
       "      <th>BDM</th>\n",
       "      <td>0.289510</td>\n",
       "    </tr>\n",
       "    <tr>\n",
       "      <th>Work_type</th>\n",
       "      <td>0.238678</td>\n",
       "    </tr>\n",
       "    <tr>\n",
       "      <th>Qualified</th>\n",
       "      <td>0.191781</td>\n",
       "    </tr>\n",
       "    <tr>\n",
       "      <th>Age</th>\n",
       "      <td>0.130094</td>\n",
       "    </tr>\n",
       "    <tr>\n",
       "      <th>Partnership</th>\n",
       "      <td>0.077290</td>\n",
       "    </tr>\n",
       "    <tr>\n",
       "      <th>Children</th>\n",
       "      <td>0.067124</td>\n",
       "    </tr>\n",
       "    <tr>\n",
       "      <th>State</th>\n",
       "      <td>0.045941</td>\n",
       "    </tr>\n",
       "    <tr>\n",
       "      <th>No_of_children</th>\n",
       "      <td>0.039495</td>\n",
       "    </tr>\n",
       "    <tr>\n",
       "      <th>Gender</th>\n",
       "      <td>-0.008289</td>\n",
       "    </tr>\n",
       "  </tbody>\n",
       "</table>\n",
       "</div>"
      ],
      "text/plain": [
       "                  Income\n",
       "Employment      0.418967\n",
       "Industry        0.342959\n",
       "BDM             0.289510\n",
       "Work_type       0.238678\n",
       "Qualified       0.191781\n",
       "Age             0.130094\n",
       "Partnership     0.077290\n",
       "Children        0.067124\n",
       "State           0.045941\n",
       "No_of_children  0.039495\n",
       "Gender         -0.008289"
      ]
     },
     "execution_count": 10,
     "metadata": {},
     "output_type": "execute_result"
    }
   ],
   "source": [
    "#Extract 'Salary' column, because that is the target outcome original file\n",
    "corr_salary = pd.DataFrame(corr['Income'].drop('Income'))\n",
    "corr_salary.sort_values(by='Income', ascending = False )"
   ]
  },
  {
   "cell_type": "code",
   "execution_count": 11,
   "metadata": {
    "collapsed": false
   },
   "outputs": [
    {
     "data": {
      "text/plain": [
       "<matplotlib.axes._subplots.AxesSubplot at 0x111dc5a20>"
      ]
     },
     "execution_count": 11,
     "metadata": {},
     "output_type": "execute_result"
    },
    {
     "data": {
      "image/png": "[encoded data removed]",
      "text/plain": [
       "<matplotlib.figure.Figure at 0x112467cc0>"
      ]
     },
     "metadata": {},
     "output_type": "display_data"
    }
   ],
   "source": [
    "# Income with employment\n",
    "plt.figure(figsize = (20,8))\n",
    "sns.barplot(x='Employment', y = 'Income', data = file)"
   ]
  },
  {
   "cell_type": "code",
   "execution_count": 12,
   "metadata": {
    "collapsed": false
   },
   "outputs": [
    {
     "data": {
      "text/plain": [
       "<matplotlib.axes._subplots.AxesSubplot at 0x113092048>"
      ]
     },
     "execution_count": 12,
     "metadata": {},
     "output_type": "execute_result"
    },
    {
     "data": {
      "image/png": "[encoded data removed]",
      "text/plain": [
       "<matplotlib.figure.Figure at 0x1132b5eb8>"
      ]
     },
     "metadata": {},
     "output_type": "display_data"
    }
   ],
   "source": [
    "# Income with gender\n",
    "plt.figure(figsize = (20,8))\n",
    "sns.barplot(x='Gender', y = 'Income', data = file)"
   ]
  },
  {
   "cell_type": "code",
   "execution_count": 13,
   "metadata": {
    "collapsed": false
   },
   "outputs": [
    {
     "data": {
      "text/plain": [
       "<matplotlib.axes._subplots.AxesSubplot at 0x112c47e10>"
      ]
     },
     "execution_count": 13,
     "metadata": {},
     "output_type": "execute_result"
    },
    {
     "data": {
      "image/png": "[encoded data removed]",
      "text/plain": [
       "<matplotlib.figure.Figure at 0x112c47e80>"
      ]
     },
     "metadata": {},
     "output_type": "display_data"
    }
   ],
   "source": [
    "# age, gender & salary\n",
    "plt.figure(figsize = (25,10))\n",
    "sns.barplot(x='Age', y = 'Income', hue = 'Gender', data = file)"
   ]
  },
  {
   "cell_type": "code",
   "execution_count": 14,
   "metadata": {
    "collapsed": false
   },
   "outputs": [
    {
     "data": {
      "text/plain": [
       "<matplotlib.axes._subplots.AxesSubplot at 0x113901160>"
      ]
     },
     "execution_count": 14,
     "metadata": {},
     "output_type": "execute_result"
    },
    {
     "data": {
      "image/png": "[encoded data removed]",
      "text/plain": [
       "<matplotlib.figure.Figure at 0x11286ffd0>"
      ]
     },
     "metadata": {},
     "output_type": "display_data"
    }
   ],
   "source": [
    "# work type, gender & salary\n",
    "plt.figure(figsize = (25,10))\n",
    "sns.barplot(x='Work_type', y = 'Income', hue = 'Gender', data = file)"
   ]
  },
  {
   "cell_type": "code",
   "execution_count": 15,
   "metadata": {
    "collapsed": false
   },
   "outputs": [
    {
     "data": {
      "text/plain": [
       "<matplotlib.axes._subplots.AxesSubplot at 0x11292fdd8>"
      ]
     },
     "execution_count": 15,
     "metadata": {},
     "output_type": "execute_result"
    },
    {
     "data": {
      "image/png": "[encoded data removed]",
      "text/plain": [
       "<matplotlib.figure.Figure at 0x1139c60b8>"
      ]
     },
     "metadata": {},
     "output_type": "display_data"
    }
   ],
   "source": [
    "# Income with age\n",
    "plt.figure(figsize = (20,8))\n",
    "sns.barplot(x='Age', y = 'Income', data = file)"
   ]
  },
  {
   "cell_type": "code",
   "execution_count": 16,
   "metadata": {
    "collapsed": false
   },
   "outputs": [
    {
     "data": {
      "text/plain": [
       "<matplotlib.axes._subplots.AxesSubplot at 0x112357c88>"
      ]
     },
     "execution_count": 16,
     "metadata": {},
     "output_type": "execute_result"
    },
    {
     "data": {
      "image/png": "[encoded data removed]",
      "text/plain": [
       "<matplotlib.figure.Figure at 0x113b27080>"
      ]
     },
     "metadata": {},
     "output_type": "display_data"
    }
   ],
   "source": [
    "# salary with with age and qualifications\n",
    "plt.figure(figsize = (25,10))\n",
    "sns.barplot(x='Age', y = 'Income', hue = 'Qualified', data = file)"
   ]
  },
  {
   "cell_type": "code",
   "execution_count": 17,
   "metadata": {
    "collapsed": false
   },
   "outputs": [
    {
     "ename": "AttributeError",
     "evalue": "'DataFrame' object has no attribute 'satisfaction_level'",
     "output_type": "error",
     "traceback": [
      "\u001b[0;31m---------------------------------------------------------------------------\u001b[0m",
      "\u001b[0;31mAttributeError\u001b[0m                            Traceback (most recent call last)",
      "\u001b[0;32m<ipython-input-17-4860ce740896>\u001b[0m in \u001b[0;36m<module>\u001b[0;34m()\u001b[0m\n\u001b[1;32m      4\u001b[0m \u001b[0;34m\u001b[0m\u001b[0m\n\u001b[1;32m      5\u001b[0m \u001b[0mplt\u001b[0m\u001b[0;34m.\u001b[0m\u001b[0msubplot\u001b[0m\u001b[0;34m(\u001b[0m\u001b[0;36m1\u001b[0m\u001b[0;34m,\u001b[0m\u001b[0;36m2\u001b[0m\u001b[0;34m,\u001b[0m\u001b[0;36m1\u001b[0m\u001b[0;34m)\u001b[0m\u001b[0;34m\u001b[0m\u001b[0m\n\u001b[0;32m----> 6\u001b[0;31m \u001b[0mplt\u001b[0m\u001b[0;34m.\u001b[0m\u001b[0mplot\u001b[0m\u001b[0;34m(\u001b[0m\u001b[0mdata\u001b[0m\u001b[0;34m.\u001b[0m\u001b[0msatisfaction_level\u001b[0m\u001b[0;34m[\u001b[0m\u001b[0mdata\u001b[0m\u001b[0;34m.\u001b[0m\u001b[0mleft\u001b[0m \u001b[0;34m==\u001b[0m \u001b[0;36m1\u001b[0m\u001b[0;34m]\u001b[0m\u001b[0;34m,\u001b[0m\u001b[0mdata\u001b[0m\u001b[0;34m.\u001b[0m\u001b[0mlast_evaluation\u001b[0m\u001b[0;34m[\u001b[0m\u001b[0mdata\u001b[0m\u001b[0;34m.\u001b[0m\u001b[0mleft\u001b[0m \u001b[0;34m==\u001b[0m \u001b[0;36m1\u001b[0m\u001b[0;34m]\u001b[0m\u001b[0;34m,\u001b[0m\u001b[0;34m'o'\u001b[0m\u001b[0;34m,\u001b[0m \u001b[0malpha\u001b[0m \u001b[0;34m=\u001b[0m \u001b[0;36m0.1\u001b[0m\u001b[0;34m)\u001b[0m\u001b[0;34m\u001b[0m\u001b[0m\n\u001b[0m\u001b[1;32m      7\u001b[0m \u001b[0;34m\u001b[0m\u001b[0m\n\u001b[1;32m      8\u001b[0m \u001b[0;31m#plt.ylabel('Last Evaluation')\u001b[0m\u001b[0;34m\u001b[0m\u001b[0;34m\u001b[0m\u001b[0m\n",
      "\u001b[0;32m/anaconda/lib/python3.6/site-packages/pandas/core/generic.py\u001b[0m in \u001b[0;36m__getattr__\u001b[0;34m(self, name)\u001b[0m\n\u001b[1;32m   2742\u001b[0m             \u001b[0;32mif\u001b[0m \u001b[0mname\u001b[0m \u001b[0;32min\u001b[0m \u001b[0mself\u001b[0m\u001b[0;34m.\u001b[0m\u001b[0m_info_axis\u001b[0m\u001b[0;34m:\u001b[0m\u001b[0;34m\u001b[0m\u001b[0m\n\u001b[1;32m   2743\u001b[0m                 \u001b[0;32mreturn\u001b[0m \u001b[0mself\u001b[0m\u001b[0;34m[\u001b[0m\u001b[0mname\u001b[0m\u001b[0;34m]\u001b[0m\u001b[0;34m\u001b[0m\u001b[0m\n\u001b[0;32m-> 2744\u001b[0;31m             \u001b[0;32mreturn\u001b[0m \u001b[0mobject\u001b[0m\u001b[0;34m.\u001b[0m\u001b[0m__getattribute__\u001b[0m\u001b[0;34m(\u001b[0m\u001b[0mself\u001b[0m\u001b[0;34m,\u001b[0m \u001b[0mname\u001b[0m\u001b[0;34m)\u001b[0m\u001b[0;34m\u001b[0m\u001b[0m\n\u001b[0m\u001b[1;32m   2745\u001b[0m \u001b[0;34m\u001b[0m\u001b[0m\n\u001b[1;32m   2746\u001b[0m     \u001b[0;32mdef\u001b[0m \u001b[0m__setattr__\u001b[0m\u001b[0;34m(\u001b[0m\u001b[0mself\u001b[0m\u001b[0;34m,\u001b[0m \u001b[0mname\u001b[0m\u001b[0;34m,\u001b[0m \u001b[0mvalue\u001b[0m\u001b[0;34m)\u001b[0m\u001b[0;34m:\u001b[0m\u001b[0;34m\u001b[0m\u001b[0m\n",
      "\u001b[0;31mAttributeError\u001b[0m: 'DataFrame' object has no attribute 'satisfaction_level'"
     ]
    },
    {
     "data": {
      "image/png": "[encoded data removed]",
      "text/plain": [
       "<matplotlib.figure.Figure at 0x113c46be0>"
      ]
     },
     "metadata": {},
     "output_type": "display_data"
    }
   ],
   "source": [
    "# should you make a comparison? -- between different locations? business decision makers?\n",
    "data=file\n",
    "plt.figure(figsize = (12,12))\n",
    "\n",
    "plt.subplot(1,2,1)\n",
    "plt.plot(data.satisfaction_level[data.left == 1],data.last_evaluation[data.left == 1],'o', alpha = 0.1)\n",
    "\n",
    "#plt.ylabel('Last Evaluation')\n",
    "#plt.title('Employees who left')\n",
    "#plt.xlabel('Satisfaction level')\n",
    "\n",
    "#plt.subplot(1,2,2)\n",
    "#plt.title('Employees who stayed')\n",
    "#plt.plot(data.satisfaction_level[data.left == 0],data.last_evaluation[data.left == 0],'o', alpha = 0.1)\n",
    "#plt.xlim([0.4,1])\n",
    "#plt.ylabel('Last Evaluation')\n",
    "#plt.xlabel('Satisfaction level')"
   ]
  },
  {
   "cell_type": "markdown",
   "metadata": {},
   "source": [
    "### Method"
   ]
  },
  {
   "cell_type": "code",
   "execution_count": null,
   "metadata": {
    "collapsed": false
   },
   "outputs": [],
   "source": [
    "#Extract 'Salary' column, because that is the target outcome original file\n",
    "corr_salary = pd.DataFrame(corr['Income'].drop('Income'))\n",
    "corr_salary.sort_values(by='Income', ascending = False)"
   ]
  },
  {
   "cell_type": "code",
   "execution_count": null,
   "metadata": {
    "collapsed": true
   },
   "outputs": [],
   "source": [
    "# Variables that are of relevance\n",
    "    \n",
    "relevant_variables = ['Employment', 'Industry', 'BDM', 'Work_type','Age','Qualified',\n",
    "                      'Partnership','Salary','Home_status','Gender']"
   ]
  },
  {
   "cell_type": "code",
   "execution_count": null,
   "metadata": {
    "collapsed": true
   },
   "outputs": [],
   "source": [
    "# Categorical data\n",
    "\n",
    "categorical_variables = ['Salary','Home_status']"
   ]
  },
  {
   "cell_type": "code",
   "execution_count": null,
   "metadata": {
    "collapsed": false
   },
   "outputs": [],
   "source": [
    "# define your data set\n",
    "\n",
    "df = file.loc[:, relevant_variables]\n",
    "df.head(10)"
   ]
  },
  {
   "cell_type": "code",
   "execution_count": null,
   "metadata": {
    "collapsed": false
   },
   "outputs": [],
   "source": [
    "# Change categorical variables to numeric\n",
    "\n",
    "features_categorical = ['Salary','Home_status']\n",
    "\n",
    "for c in features_categorical:\n",
    "    df[c] = pd.Categorical(df[c]).codes\n",
    "\n",
    "df.head(10)"
   ]
  },
  {
   "cell_type": "code",
   "execution_count": null,
   "metadata": {
    "collapsed": false
   },
   "outputs": [],
   "source": [
    "# define features and target or outcome\n",
    "features = ['Home_status', 'Employment','Qualified', 'Work_type', 'BDM', 'Industry',\n",
    "            'Age','Partnership', 'Gender']\n",
    "target = 'Salary'"
   ]
  },
  {
   "cell_type": "code",
   "execution_count": null,
   "metadata": {
    "collapsed": true
   },
   "outputs": [],
   "source": [
    "# Classifier\n",
    "from sklearn.tree import DecisionTreeClassifier\n",
    "\n",
    "# Instantiate the classifier\n",
    "classifier = DecisionTreeClassifier(random_state=1)"
   ]
  },
  {
   "cell_type": "markdown",
   "metadata": {},
   "source": [
    "# Split and train data"
   ]
  },
  {
   "cell_type": "code",
   "execution_count": null,
   "metadata": {
    "collapsed": true
   },
   "outputs": [],
   "source": [
    "import math"
   ]
  },
  {
   "cell_type": "code",
   "execution_count": null,
   "metadata": {
    "collapsed": false
   },
   "outputs": [],
   "source": [
    "# train & split data\n",
    "# Set a random seed so the shuffle is the same every time\n",
    "np.random.seed(1)\n",
    "\n",
    "# Shuffle the rows  - This permutes the index randomly using numpy.random.permutation. Then, it reindexes the dataframe with the result. The net effect is to put the rows into random order\n",
    "Salary = df.reindex(np.random.permutation(df.index))\n",
    "\n",
    "# 80% to train and 20% to test\n",
    "train_max_row = math.floor(Salary.shape[0] * .8)\n",
    "\n",
    "train = Salary.iloc[:train_max_row, :]\n",
    "test = Salary.iloc[train_max_row:, :]"
   ]
  },
  {
   "cell_type": "markdown",
   "metadata": {},
   "source": [
    "# Fit model"
   ]
  },
  {
   "cell_type": "code",
   "execution_count": null,
   "metadata": {
    "collapsed": false
   },
   "outputs": [],
   "source": [
    "classifier.fit(train[features], train[target])"
   ]
  },
  {
   "cell_type": "markdown",
   "metadata": {},
   "source": [
    "# Make predictions"
   ]
  },
  {
   "cell_type": "code",
   "execution_count": null,
   "metadata": {
    "collapsed": false
   },
   "outputs": [],
   "source": [
    "predictions = classifier.predict(test[features])\n",
    "predictions[:2]"
   ]
  },
  {
   "cell_type": "code",
   "execution_count": null,
   "metadata": {
    "collapsed": false
   },
   "outputs": [],
   "source": [
    "predictions"
   ]
  },
  {
   "cell_type": "markdown",
   "metadata": {},
   "source": [
    "# Accuracy test"
   ]
  },
  {
   "cell_type": "code",
   "execution_count": null,
   "metadata": {
    "collapsed": true
   },
   "outputs": [],
   "source": [
    "# Calculating the area under the curve\n",
    "\n",
    "from sklearn.metrics import roc_auc_score"
   ]
  },
  {
   "cell_type": "code",
   "execution_count": null,
   "metadata": {
    "collapsed": false
   },
   "outputs": [],
   "source": [
    "test_auc = roc_auc_score(test[target], predictions)\n",
    "\n",
    "print(test_auc)"
   ]
  },
  {
   "cell_type": "markdown",
   "metadata": {},
   "source": [
    "# over-fitting test"
   ]
  },
  {
   "cell_type": "code",
   "execution_count": null,
   "metadata": {
    "collapsed": false
   },
   "outputs": [],
   "source": [
    "# test of overfitting using area under the curve\n",
    "train_predictions = classifier.predict(train[features])\n",
    "\n",
    "train_auc = roc_auc_score(train[target], train_predictions)\n",
    "\n",
    "print(train_auc)"
   ]
  },
  {
   "cell_type": "markdown",
   "metadata": {},
   "source": [
    "# Tree depth restrictions"
   ]
  },
  {
   "cell_type": "code",
   "execution_count": null,
   "metadata": {
    "collapsed": true
   },
   "outputs": [],
   "source": [
    "def get_aucs(max_depth):\n",
    "    # Decision trees model with max_depth \n",
    "    clf = DecisionTreeClassifier(random_state=1, max_depth=max_depth)\n",
    "\n",
    "    clf.fit(train[features], train[target])\n",
    "\n",
    "    # Test AUC\n",
    "    predictions = clf.predict(test[features])\n",
    "    test_auc = roc_auc_score(test[target], predictions)\n",
    "\n",
    "    # Train AUC\n",
    "    predictions_train = clf.predict(train[features])\n",
    "    train_auc = roc_auc_score(train[target], predictions_train)\n",
    "    \n",
    "    return test_auc, train_auc\n",
    "\n",
    "depth_values = np.arange(2, 40)\n",
    "auc_values = np.zeros((len(depth_values), 3))\n",
    "for i, val in enumerate(depth_values):\n",
    "    test_auc, train_auc = get_aucs(val)\n",
    "    auc_values[i, 0]  = val\n",
    "    auc_values[i, 1]  = test_auc\n",
    "    auc_values[i, 2]  = train_auc"
   ]
  },
  {
   "cell_type": "code",
   "execution_count": null,
   "metadata": {
    "collapsed": false
   },
   "outputs": [],
   "source": [
    "import matplotlib.pyplot as plt\n",
    "%matplotlib inline \n",
    "plt.style.use('ggplot')\n",
    "plt.rcParams.update({'font.size': 16})\n",
    "\n",
    "plt.figure(figsize=(8,4))\n",
    "plt.plot(auc_values[:,0], auc_values[:,1], label='Test AUC') \n",
    "plt.plot(auc_values[:,0], auc_values[:,2], color='c', label='Train AUC')\n",
    "plt.legend()\n",
    "plt.xlabel('Maximum Tree Depth')\n",
    "plt.ylabel('AUC')\n",
    "\n",
    "plt.show()"
   ]
  },
  {
   "cell_type": "code",
   "execution_count": null,
   "metadata": {
    "collapsed": false
   },
   "outputs": [],
   "source": [
    "clf = DecisionTreeClassifier(random_state=1, max_depth=12)\n",
    "clf.fit(train[features], train[target])"
   ]
  },
  {
   "cell_type": "code",
   "execution_count": null,
   "metadata": {
    "collapsed": false
   },
   "outputs": [],
   "source": [
    "pred = clf.predict(test[features])\n",
    "test_auc = roc_auc_score(test[target], pred)\n",
    "print(test_auc)"
   ]
  },
  {
   "cell_type": "code",
   "execution_count": null,
   "metadata": {
    "collapsed": false
   },
   "outputs": [],
   "source": [
    "train_pred = clf.predict(train[features])\n",
    "\n",
    "train_auc = roc_auc_score(train[target], train_pred)\n",
    "\n",
    "print(train_auc)"
   ]
  },
  {
   "cell_type": "markdown",
   "metadata": {},
   "source": [
    "# Visualisation"
   ]
  },
  {
   "cell_type": "code",
   "execution_count": null,
   "metadata": {
    "collapsed": false
   },
   "outputs": [],
   "source": [
    "! pip install graphviz\n",
    "! pip install pydot"
   ]
  },
  {
   "cell_type": "code",
   "execution_count": null,
   "metadata": {
    "collapsed": true
   },
   "outputs": [],
   "source": [
    "from io import StringIO\n",
    "from sklearn.tree import export_graphviz"
   ]
  },
  {
   "cell_type": "code",
   "execution_count": null,
   "metadata": {
    "collapsed": false
   },
   "outputs": [],
   "source": [
    "dt = tree.DecisionTreeClassifier()"
   ]
  },
  {
   "cell_type": "code",
   "execution_count": null,
   "metadata": {
    "collapsed": false
   },
   "outputs": [],
   "source": [
    "out = StringIO()\n",
    "tree.export_graphviz(dt, out_file = out)\n",
    "# OUTPUT DOT LANGUAGE SCRIPTS\n",
    "print(out.getvalue())"
   ]
  },
  {
   "cell_type": "code",
   "execution_count": null,
   "metadata": {
    "collapsed": true
   },
   "outputs": [],
   "source": [
    "# http://webgraphviz.com/"
   ]
  },
  {
   "cell_type": "code",
   "execution_count": null,
   "metadata": {
    "collapsed": true
   },
   "outputs": [],
   "source": [
    "dt = tree.DecisionTreeClassifier(random_state=1, max_depth=2)\n",
    "dt.fit(data_train, label_train)\n",
    "dt_score_train = dt.score(data_train, label_train)\n",
    "print(\"Training score: \",dt_score_train)\n",
    "dt_score_test = dt.score(data_test, label_test)\n",
    "print(\"Testing score: \",dt_score_test)\n",
    "\n",
    "# Create a feature vector\n",
    "features = hr_data_with_dummies.columns.tolist()\n",
    "\n",
    "from sklearn.tree import export_graphviz\n",
    "tree.export_graphviz(dt, out_file='tree_hr_analysis_smaller_tree.dot', feature_names=features)"
   ]
  }
 ],
 "metadata": {
  "kernelspec": {
   "display_name": "Python 3",
   "language": "python",
   "name": "python3"
  },
  "language_info": {
   "codemirror_mode": {
    "name": "ipython",
    "version": 3
   },
   "file_extension": ".py",
   "mimetype": "text/x-python",
   "name": "python",
   "nbconvert_exporter": "python",
   "pygments_lexer": "ipython3",
   "version": "3.6.0"
  }
 },
 "nbformat": 4,
 "nbformat_minor": 2
}
