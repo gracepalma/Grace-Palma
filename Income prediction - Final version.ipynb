{
 "cells": [
  {
   "cell_type": "markdown",
   "metadata": {},
   "source": [
    "#  Income prediction\n",
    "\n",
    "The objective of this project is create a model that can predict income based on multiple variables:\n",
    "1. Employment\n",
    "2. Industry\n",
    "3. BDM\n",
    "4. Work type\n",
    "5. Age\n",
    "6. Qualifications\n",
    "7. Relationship status\n",
    "8. Housing status\n",
    "9. Gender\n",
    "\n",
    "The ABS states that on average, Australians earn $80,000 p.a.\n",
    "The aim is to identify and predict whether someone falls above the average salary threshold\n",
    "\n",
    "### About the data set\n",
    "We will use survey data collected from an Australian online panel.\n",
    "\n",
    "\n",
    "### Model\n",
    "Decision tree"
   ]
  },
  {
   "cell_type": "markdown",
   "metadata": {},
   "source": [
    "# Library import"
   ]
  },
  {
   "cell_type": "code",
   "execution_count": 1,
   "metadata": {
    "collapsed": true
   },
   "outputs": [],
   "source": [
    "#from sklearn.model_selection import train_test_split\n",
    "#from sklearn.tree import DecisionTreeRegressor\n",
    "#import matplotlib.pyplot as plt\n",
    "#from sklearn.model_selection import cross_val_score"
   ]
  },
  {
   "cell_type": "code",
   "execution_count": 2,
   "metadata": {
    "collapsed": true
   },
   "outputs": [],
   "source": [
    "from sklearn import tree\n",
    "import pandas as pd\n",
    "import numpy as np\n",
    "from sklearn.model_selection import train_test_split\n",
    "from sklearn import metrics\n",
    "import matplotlib.pyplot as plt\n",
    "import seaborn as sns\n",
    "\n",
    "%matplotlib inline"
   ]
  },
  {
   "cell_type": "code",
   "execution_count": 3,
   "metadata": {
    "collapsed": false
   },
   "outputs": [
    {
     "data": {
      "text/plain": [
       "['Data (2)', 'Data', 'Description', 'Project data']"
      ]
     },
     "execution_count": 3,
     "metadata": {},
     "output_type": "execute_result"
    }
   ],
   "source": [
    "df = pd.ExcelFile('~/Documents/GMTPalma/Project data.xlsx')\n",
    "df.sheet_names"
   ]
  },
  {
   "cell_type": "code",
   "execution_count": 4,
   "metadata": {
    "collapsed": false
   },
   "outputs": [
    {
     "data": {
      "text/html": [
       "<div>\n",
       "<table border=\"1\" class=\"dataframe\">\n",
       "  <thead>\n",
       "    <tr style=\"text-align: right;\">\n",
       "      <th></th>\n",
       "      <th>Label</th>\n",
       "      <th>Code</th>\n",
       "      <th>Definition</th>\n",
       "    </tr>\n",
       "  </thead>\n",
       "  <tbody>\n",
       "    <tr>\n",
       "      <th>0</th>\n",
       "      <td>Gender</td>\n",
       "      <td>1</td>\n",
       "      <td>Male</td>\n",
       "    </tr>\n",
       "    <tr>\n",
       "      <th>1</th>\n",
       "      <td>Gender</td>\n",
       "      <td>2</td>\n",
       "      <td>Female</td>\n",
       "    </tr>\n",
       "    <tr>\n",
       "      <th>2</th>\n",
       "      <td>State</td>\n",
       "      <td>1</td>\n",
       "      <td>NSW</td>\n",
       "    </tr>\n",
       "    <tr>\n",
       "      <th>3</th>\n",
       "      <td>State</td>\n",
       "      <td>2</td>\n",
       "      <td>VIC</td>\n",
       "    </tr>\n",
       "    <tr>\n",
       "      <th>4</th>\n",
       "      <td>State</td>\n",
       "      <td>3</td>\n",
       "      <td>QLD</td>\n",
       "    </tr>\n",
       "    <tr>\n",
       "      <th>5</th>\n",
       "      <td>State</td>\n",
       "      <td>4</td>\n",
       "      <td>WA</td>\n",
       "    </tr>\n",
       "    <tr>\n",
       "      <th>6</th>\n",
       "      <td>State</td>\n",
       "      <td>5</td>\n",
       "      <td>SA</td>\n",
       "    </tr>\n",
       "    <tr>\n",
       "      <th>7</th>\n",
       "      <td>State</td>\n",
       "      <td>6</td>\n",
       "      <td>ACT</td>\n",
       "    </tr>\n",
       "    <tr>\n",
       "      <th>8</th>\n",
       "      <td>State</td>\n",
       "      <td>7</td>\n",
       "      <td>TAS</td>\n",
       "    </tr>\n",
       "    <tr>\n",
       "      <th>9</th>\n",
       "      <td>State</td>\n",
       "      <td>8</td>\n",
       "      <td>NT</td>\n",
       "    </tr>\n",
       "    <tr>\n",
       "      <th>10</th>\n",
       "      <td>Age</td>\n",
       "      <td>NaN</td>\n",
       "      <td>NaN</td>\n",
       "    </tr>\n",
       "    <tr>\n",
       "      <th>11</th>\n",
       "      <td>Income</td>\n",
       "      <td>NaN</td>\n",
       "      <td>NaN</td>\n",
       "    </tr>\n",
       "    <tr>\n",
       "      <th>12</th>\n",
       "      <td>Salary</td>\n",
       "      <td>1</td>\n",
       "      <td>Income above $80,000</td>\n",
       "    </tr>\n",
       "    <tr>\n",
       "      <th>13</th>\n",
       "      <td>Salary</td>\n",
       "      <td>0</td>\n",
       "      <td>Income below $80,000</td>\n",
       "    </tr>\n",
       "    <tr>\n",
       "      <th>14</th>\n",
       "      <td>Employment</td>\n",
       "      <td>1</td>\n",
       "      <td>Employed</td>\n",
       "    </tr>\n",
       "    <tr>\n",
       "      <th>15</th>\n",
       "      <td>Employment</td>\n",
       "      <td>0</td>\n",
       "      <td>Unemployed</td>\n",
       "    </tr>\n",
       "    <tr>\n",
       "      <th>16</th>\n",
       "      <td>Partnership</td>\n",
       "      <td>1</td>\n",
       "      <td>Partnered</td>\n",
       "    </tr>\n",
       "    <tr>\n",
       "      <th>17</th>\n",
       "      <td>Children</td>\n",
       "      <td>0</td>\n",
       "      <td>Single</td>\n",
       "    </tr>\n",
       "    <tr>\n",
       "      <th>18</th>\n",
       "      <td>Number_of_children</td>\n",
       "      <td>NaN</td>\n",
       "      <td>NaN</td>\n",
       "    </tr>\n",
       "    <tr>\n",
       "      <th>19</th>\n",
       "      <td>Home_status</td>\n",
       "      <td>Renting</td>\n",
       "      <td>Renting</td>\n",
       "    </tr>\n",
       "    <tr>\n",
       "      <th>20</th>\n",
       "      <td>Home_status</td>\n",
       "      <td>Mortgage</td>\n",
       "      <td>Mortgage</td>\n",
       "    </tr>\n",
       "    <tr>\n",
       "      <th>21</th>\n",
       "      <td>Home_status</td>\n",
       "      <td>Home owner</td>\n",
       "      <td>Home owner</td>\n",
       "    </tr>\n",
       "    <tr>\n",
       "      <th>22</th>\n",
       "      <td>Home_status</td>\n",
       "      <td>Other</td>\n",
       "      <td>Other</td>\n",
       "    </tr>\n",
       "    <tr>\n",
       "      <th>23</th>\n",
       "      <td>Qualified</td>\n",
       "      <td>1</td>\n",
       "      <td>Qualified</td>\n",
       "    </tr>\n",
       "    <tr>\n",
       "      <th>24</th>\n",
       "      <td>Qualified</td>\n",
       "      <td>0</td>\n",
       "      <td>Unqualified</td>\n",
       "    </tr>\n",
       "    <tr>\n",
       "      <th>25</th>\n",
       "      <td>Work_type</td>\n",
       "      <td>1</td>\n",
       "      <td>Manager</td>\n",
       "    </tr>\n",
       "    <tr>\n",
       "      <th>26</th>\n",
       "      <td>Work_type</td>\n",
       "      <td>2</td>\n",
       "      <td>Professional</td>\n",
       "    </tr>\n",
       "    <tr>\n",
       "      <th>27</th>\n",
       "      <td>Work_type</td>\n",
       "      <td>3</td>\n",
       "      <td>Technical</td>\n",
       "    </tr>\n",
       "    <tr>\n",
       "      <th>28</th>\n",
       "      <td>Work_type</td>\n",
       "      <td>4</td>\n",
       "      <td>Support</td>\n",
       "    </tr>\n",
       "    <tr>\n",
       "      <th>29</th>\n",
       "      <td>Work_type</td>\n",
       "      <td>5</td>\n",
       "      <td>Sales</td>\n",
       "    </tr>\n",
       "    <tr>\n",
       "      <th>30</th>\n",
       "      <td>BDM</td>\n",
       "      <td>Business decision maker</td>\n",
       "      <td>NaN</td>\n",
       "    </tr>\n",
       "    <tr>\n",
       "      <th>31</th>\n",
       "      <td>Industry</td>\n",
       "      <td>1</td>\n",
       "      <td>Accounting</td>\n",
       "    </tr>\n",
       "    <tr>\n",
       "      <th>32</th>\n",
       "      <td>Industry</td>\n",
       "      <td>2</td>\n",
       "      <td>Accommodation &amp; food</td>\n",
       "    </tr>\n",
       "    <tr>\n",
       "      <th>33</th>\n",
       "      <td>Industry</td>\n",
       "      <td>3</td>\n",
       "      <td>Administration or office support</td>\n",
       "    </tr>\n",
       "    <tr>\n",
       "      <th>34</th>\n",
       "      <td>Industry</td>\n",
       "      <td>4</td>\n",
       "      <td>Arts or media</td>\n",
       "    </tr>\n",
       "    <tr>\n",
       "      <th>35</th>\n",
       "      <td>Industry</td>\n",
       "      <td>5</td>\n",
       "      <td>Agriculture, forestry or fishing</td>\n",
       "    </tr>\n",
       "    <tr>\n",
       "      <th>36</th>\n",
       "      <td>Industry</td>\n",
       "      <td>6</td>\n",
       "      <td>Banking, insurance or financial services</td>\n",
       "    </tr>\n",
       "    <tr>\n",
       "      <th>37</th>\n",
       "      <td>Industry</td>\n",
       "      <td>7</td>\n",
       "      <td>Beauty or fitness</td>\n",
       "    </tr>\n",
       "    <tr>\n",
       "      <th>38</th>\n",
       "      <td>Industry</td>\n",
       "      <td>8</td>\n",
       "      <td>Call centre, retail or customer services</td>\n",
       "    </tr>\n",
       "    <tr>\n",
       "      <th>39</th>\n",
       "      <td>Industry</td>\n",
       "      <td>9</td>\n",
       "      <td>Cleaning services</td>\n",
       "    </tr>\n",
       "  </tbody>\n",
       "</table>\n",
       "</div>"
      ],
      "text/plain": [
       "                 Label                     Code  \\\n",
       "0               Gender                        1   \n",
       "1               Gender                        2   \n",
       "2                State                        1   \n",
       "3                State                        2   \n",
       "4                State                        3   \n",
       "5                State                        4   \n",
       "6                State                        5   \n",
       "7                State                        6   \n",
       "8                State                        7   \n",
       "9                State                        8   \n",
       "10                 Age                      NaN   \n",
       "11              Income                      NaN   \n",
       "12              Salary                        1   \n",
       "13              Salary                        0   \n",
       "14          Employment                        1   \n",
       "15          Employment                        0   \n",
       "16         Partnership                        1   \n",
       "17            Children                        0   \n",
       "18  Number_of_children                      NaN   \n",
       "19         Home_status                  Renting   \n",
       "20         Home_status                 Mortgage   \n",
       "21         Home_status               Home owner   \n",
       "22         Home_status                    Other   \n",
       "23           Qualified                        1   \n",
       "24           Qualified                        0   \n",
       "25           Work_type                        1   \n",
       "26           Work_type                        2   \n",
       "27           Work_type                        3   \n",
       "28           Work_type                        4   \n",
       "29           Work_type                        5   \n",
       "30                 BDM  Business decision maker   \n",
       "31            Industry                        1   \n",
       "32            Industry                        2   \n",
       "33            Industry                        3   \n",
       "34            Industry                        4   \n",
       "35            Industry                        5   \n",
       "36            Industry                        6   \n",
       "37            Industry                        7   \n",
       "38            Industry                        8   \n",
       "39            Industry                        9   \n",
       "\n",
       "                                  Definition  \n",
       "0                                       Male  \n",
       "1                                     Female  \n",
       "2                                        NSW  \n",
       "3                                        VIC  \n",
       "4                                        QLD  \n",
       "5                                         WA  \n",
       "6                                         SA  \n",
       "7                                        ACT  \n",
       "8                                        TAS  \n",
       "9                                         NT  \n",
       "10                                       NaN  \n",
       "11                                       NaN  \n",
       "12                      Income above $80,000  \n",
       "13                      Income below $80,000  \n",
       "14                                 Employed   \n",
       "15                                Unemployed  \n",
       "16                                 Partnered  \n",
       "17                                    Single  \n",
       "18                                       NaN  \n",
       "19                                   Renting  \n",
       "20                                  Mortgage  \n",
       "21                                Home owner  \n",
       "22                                     Other  \n",
       "23                                 Qualified  \n",
       "24                               Unqualified  \n",
       "25                                   Manager  \n",
       "26                              Professional  \n",
       "27                                 Technical  \n",
       "28                                   Support  \n",
       "29                                     Sales  \n",
       "30                                       NaN  \n",
       "31                                Accounting  \n",
       "32                      Accommodation & food  \n",
       "33          Administration or office support  \n",
       "34                             Arts or media  \n",
       "35          Agriculture, forestry or fishing  \n",
       "36  Banking, insurance or financial services  \n",
       "37                         Beauty or fitness  \n",
       "38  Call centre, retail or customer services  \n",
       "39                         Cleaning services  "
      ]
     },
     "execution_count": 4,
     "metadata": {},
     "output_type": "execute_result"
    }
   ],
   "source": [
    "#Data dictionary\n",
    "definition = df.parse('Description')\n",
    "definition.head(40)"
   ]
  },
  {
   "cell_type": "code",
   "execution_count": 5,
   "metadata": {
    "collapsed": false
   },
   "outputs": [
    {
     "data": {
      "text/html": [
       "<div>\n",
       "<table border=\"1\" class=\"dataframe\">\n",
       "  <thead>\n",
       "    <tr style=\"text-align: right;\">\n",
       "      <th></th>\n",
       "      <th>Gender</th>\n",
       "      <th>State</th>\n",
       "      <th>Age</th>\n",
       "      <th>Employment</th>\n",
       "      <th>Partnership</th>\n",
       "      <th>Children</th>\n",
       "      <th>No_of_children</th>\n",
       "      <th>Home_status</th>\n",
       "      <th>Qualified</th>\n",
       "      <th>Income</th>\n",
       "      <th>Salary</th>\n",
       "      <th>Work_type</th>\n",
       "      <th>BDM</th>\n",
       "      <th>Industry</th>\n",
       "    </tr>\n",
       "  </thead>\n",
       "  <tbody>\n",
       "    <tr>\n",
       "      <th>0</th>\n",
       "      <td>1</td>\n",
       "      <td>2</td>\n",
       "      <td>22</td>\n",
       "      <td>1</td>\n",
       "      <td>0</td>\n",
       "      <td>0</td>\n",
       "      <td>0</td>\n",
       "      <td>NaN</td>\n",
       "      <td>1</td>\n",
       "      <td>102499.5</td>\n",
       "      <td>Above 80</td>\n",
       "      <td>2</td>\n",
       "      <td>1</td>\n",
       "      <td>16</td>\n",
       "    </tr>\n",
       "    <tr>\n",
       "      <th>1</th>\n",
       "      <td>0</td>\n",
       "      <td>0</td>\n",
       "      <td>0</td>\n",
       "      <td>0</td>\n",
       "      <td>0</td>\n",
       "      <td>0</td>\n",
       "      <td>0</td>\n",
       "      <td>NaN</td>\n",
       "      <td>1</td>\n",
       "      <td>0.0</td>\n",
       "      <td>NaN</td>\n",
       "      <td>0</td>\n",
       "      <td>0</td>\n",
       "      <td>0</td>\n",
       "    </tr>\n",
       "    <tr>\n",
       "      <th>2</th>\n",
       "      <td>2</td>\n",
       "      <td>1</td>\n",
       "      <td>57</td>\n",
       "      <td>1</td>\n",
       "      <td>1</td>\n",
       "      <td>1</td>\n",
       "      <td>0</td>\n",
       "      <td>Mortgage</td>\n",
       "      <td>1</td>\n",
       "      <td>0.0</td>\n",
       "      <td>NaN</td>\n",
       "      <td>1</td>\n",
       "      <td>1</td>\n",
       "      <td>22</td>\n",
       "    </tr>\n",
       "    <tr>\n",
       "      <th>3</th>\n",
       "      <td>1</td>\n",
       "      <td>1</td>\n",
       "      <td>42</td>\n",
       "      <td>1</td>\n",
       "      <td>0</td>\n",
       "      <td>0</td>\n",
       "      <td>0</td>\n",
       "      <td>NaN</td>\n",
       "      <td>1</td>\n",
       "      <td>352499.5</td>\n",
       "      <td>Above 80</td>\n",
       "      <td>1</td>\n",
       "      <td>1</td>\n",
       "      <td>23</td>\n",
       "    </tr>\n",
       "    <tr>\n",
       "      <th>4</th>\n",
       "      <td>1</td>\n",
       "      <td>1</td>\n",
       "      <td>42</td>\n",
       "      <td>1</td>\n",
       "      <td>0</td>\n",
       "      <td>0</td>\n",
       "      <td>0</td>\n",
       "      <td>Renting</td>\n",
       "      <td>0</td>\n",
       "      <td>0.0</td>\n",
       "      <td>NaN</td>\n",
       "      <td>2</td>\n",
       "      <td>1</td>\n",
       "      <td>24</td>\n",
       "    </tr>\n",
       "    <tr>\n",
       "      <th>5</th>\n",
       "      <td>0</td>\n",
       "      <td>0</td>\n",
       "      <td>0</td>\n",
       "      <td>0</td>\n",
       "      <td>0</td>\n",
       "      <td>0</td>\n",
       "      <td>0</td>\n",
       "      <td>NaN</td>\n",
       "      <td>1</td>\n",
       "      <td>0.0</td>\n",
       "      <td>NaN</td>\n",
       "      <td>0</td>\n",
       "      <td>0</td>\n",
       "      <td>0</td>\n",
       "    </tr>\n",
       "    <tr>\n",
       "      <th>6</th>\n",
       "      <td>0</td>\n",
       "      <td>0</td>\n",
       "      <td>0</td>\n",
       "      <td>0</td>\n",
       "      <td>0</td>\n",
       "      <td>0</td>\n",
       "      <td>0</td>\n",
       "      <td>NaN</td>\n",
       "      <td>1</td>\n",
       "      <td>0.0</td>\n",
       "      <td>NaN</td>\n",
       "      <td>0</td>\n",
       "      <td>0</td>\n",
       "      <td>0</td>\n",
       "    </tr>\n",
       "    <tr>\n",
       "      <th>7</th>\n",
       "      <td>2</td>\n",
       "      <td>1</td>\n",
       "      <td>37</td>\n",
       "      <td>0</td>\n",
       "      <td>0</td>\n",
       "      <td>0</td>\n",
       "      <td>0</td>\n",
       "      <td>NaN</td>\n",
       "      <td>0</td>\n",
       "      <td>0.0</td>\n",
       "      <td>NaN</td>\n",
       "      <td>0</td>\n",
       "      <td>0</td>\n",
       "      <td>0</td>\n",
       "    </tr>\n",
       "    <tr>\n",
       "      <th>8</th>\n",
       "      <td>1</td>\n",
       "      <td>1</td>\n",
       "      <td>67</td>\n",
       "      <td>0</td>\n",
       "      <td>0</td>\n",
       "      <td>0</td>\n",
       "      <td>0</td>\n",
       "      <td>NaN</td>\n",
       "      <td>0</td>\n",
       "      <td>0.0</td>\n",
       "      <td>NaN</td>\n",
       "      <td>0</td>\n",
       "      <td>0</td>\n",
       "      <td>0</td>\n",
       "    </tr>\n",
       "    <tr>\n",
       "      <th>9</th>\n",
       "      <td>1</td>\n",
       "      <td>2</td>\n",
       "      <td>57</td>\n",
       "      <td>1</td>\n",
       "      <td>0</td>\n",
       "      <td>0</td>\n",
       "      <td>0</td>\n",
       "      <td>Mortgage</td>\n",
       "      <td>0</td>\n",
       "      <td>92499.5</td>\n",
       "      <td>Above 80</td>\n",
       "      <td>2</td>\n",
       "      <td>1</td>\n",
       "      <td>19</td>\n",
       "    </tr>\n",
       "  </tbody>\n",
       "</table>\n",
       "</div>"
      ],
      "text/plain": [
       "   Gender  State  Age  Employment  Partnership  Children  No_of_children  \\\n",
       "0       1      2   22           1            0         0               0   \n",
       "1       0      0    0           0            0         0               0   \n",
       "2       2      1   57           1            1         1               0   \n",
       "3       1      1   42           1            0         0               0   \n",
       "4       1      1   42           1            0         0               0   \n",
       "5       0      0    0           0            0         0               0   \n",
       "6       0      0    0           0            0         0               0   \n",
       "7       2      1   37           0            0         0               0   \n",
       "8       1      1   67           0            0         0               0   \n",
       "9       1      2   57           1            0         0               0   \n",
       "\n",
       "  Home_status  Qualified    Income    Salary  Work_type  BDM  Industry  \n",
       "0         NaN          1  102499.5  Above 80          2    1        16  \n",
       "1         NaN          1       0.0       NaN          0    0         0  \n",
       "2    Mortgage          1       0.0       NaN          1    1        22  \n",
       "3         NaN          1  352499.5  Above 80          1    1        23  \n",
       "4     Renting          0       0.0       NaN          2    1        24  \n",
       "5         NaN          1       0.0       NaN          0    0         0  \n",
       "6         NaN          1       0.0       NaN          0    0         0  \n",
       "7         NaN          0       0.0       NaN          0    0         0  \n",
       "8         NaN          0       0.0       NaN          0    0         0  \n",
       "9    Mortgage          0   92499.5  Above 80          2    1        19  "
      ]
     },
     "execution_count": 5,
     "metadata": {},
     "output_type": "execute_result"
    }
   ],
   "source": [
    "#data file\n",
    "file = df.parse('Data')\n",
    "file.head(10)"
   ]
  },
  {
   "cell_type": "code",
   "execution_count": 6,
   "metadata": {
    "collapsed": false
   },
   "outputs": [
    {
     "data": {
      "text/plain": [
       "Gender              int64\n",
       "State               int64\n",
       "Age                 int64\n",
       "Employment          int64\n",
       "Partnership         int64\n",
       "Children            int64\n",
       "No_of_children      int64\n",
       "Home_status        object\n",
       "Qualified           int64\n",
       "Income            float64\n",
       "Salary             object\n",
       "Work_type           int64\n",
       "BDM                 int64\n",
       "Industry            int64\n",
       "dtype: object"
      ]
     },
     "execution_count": 6,
     "metadata": {},
     "output_type": "execute_result"
    }
   ],
   "source": [
    "#types of columns\n",
    "file.dtypes"
   ]
  },
  {
   "cell_type": "code",
   "execution_count": 7,
   "metadata": {
    "collapsed": false
   },
   "outputs": [
    {
     "name": "stdout",
     "output_type": "stream",
     "text": [
      "[1 0]\n",
      "[16  0 22 23 24 19 11  5 28  1 32  6  4 31 10 26 15  8 17 21  7 25  2 12 30\n",
      " 14 33 20 29  9  3 18 27 13]\n",
      "[1 0]\n",
      "[2 0 1 5 4 3]\n",
      "[22  0 57 42 37 67 47 62 32 52 21 16]\n",
      "[1 0]\n",
      "['Above 80' nan]\n",
      "[nan 'Mortgage' 'Renting' 'Home own' 'Other']\n"
     ]
    }
   ],
   "source": [
    "# Check the unique values of categorical (string / objects) variables:\n",
    "print(file['Employment'].unique())\n",
    "print(file['Industry'].unique())\n",
    "print(file['BDM'].unique())\n",
    "print(file['Work_type'].unique())\n",
    "print(file['Age'].unique())\n",
    "print(file['Qualified'].unique())\n",
    "print(file['Salary'].unique())\n",
    "print(file['Home_status'].unique())"
   ]
  },
  {
   "cell_type": "code",
   "execution_count": 8,
   "metadata": {
    "collapsed": false
   },
   "outputs": [
    {
     "data": {
      "text/html": [
       "<div>\n",
       "<table border=\"1\" class=\"dataframe\">\n",
       "  <thead>\n",
       "    <tr style=\"text-align: right;\">\n",
       "      <th></th>\n",
       "      <th>Gender</th>\n",
       "      <th>State</th>\n",
       "      <th>Age</th>\n",
       "      <th>Employment</th>\n",
       "      <th>Partnership</th>\n",
       "      <th>Children</th>\n",
       "      <th>No_of_children</th>\n",
       "      <th>Qualified</th>\n",
       "      <th>Income</th>\n",
       "      <th>Work_type</th>\n",
       "      <th>BDM</th>\n",
       "      <th>Industry</th>\n",
       "    </tr>\n",
       "  </thead>\n",
       "  <tbody>\n",
       "    <tr>\n",
       "      <th>Gender</th>\n",
       "      <td>1.000000</td>\n",
       "      <td>0.190763</td>\n",
       "      <td>0.350472</td>\n",
       "      <td>0.049647</td>\n",
       "      <td>0.050235</td>\n",
       "      <td>0.080671</td>\n",
       "      <td>0.057431</td>\n",
       "      <td>0.053758</td>\n",
       "      <td>-0.008289</td>\n",
       "      <td>0.057877</td>\n",
       "      <td>-0.020703</td>\n",
       "      <td>0.014661</td>\n",
       "    </tr>\n",
       "    <tr>\n",
       "      <th>State</th>\n",
       "      <td>0.190763</td>\n",
       "      <td>1.000000</td>\n",
       "      <td>0.259453</td>\n",
       "      <td>0.040865</td>\n",
       "      <td>0.016830</td>\n",
       "      <td>0.031578</td>\n",
       "      <td>-0.018954</td>\n",
       "      <td>-0.006700</td>\n",
       "      <td>0.045941</td>\n",
       "      <td>0.042728</td>\n",
       "      <td>-0.006973</td>\n",
       "      <td>0.029512</td>\n",
       "    </tr>\n",
       "    <tr>\n",
       "      <th>Age</th>\n",
       "      <td>0.350472</td>\n",
       "      <td>0.259453</td>\n",
       "      <td>1.000000</td>\n",
       "      <td>0.024473</td>\n",
       "      <td>0.130889</td>\n",
       "      <td>0.226406</td>\n",
       "      <td>-0.012703</td>\n",
       "      <td>0.117634</td>\n",
       "      <td>0.130094</td>\n",
       "      <td>-0.016043</td>\n",
       "      <td>0.005594</td>\n",
       "      <td>0.025641</td>\n",
       "    </tr>\n",
       "    <tr>\n",
       "      <th>Employment</th>\n",
       "      <td>0.049647</td>\n",
       "      <td>0.040865</td>\n",
       "      <td>0.024473</td>\n",
       "      <td>1.000000</td>\n",
       "      <td>0.062781</td>\n",
       "      <td>0.009739</td>\n",
       "      <td>0.029789</td>\n",
       "      <td>0.194539</td>\n",
       "      <td>0.418967</td>\n",
       "      <td>0.781972</td>\n",
       "      <td>0.502124</td>\n",
       "      <td>0.738297</td>\n",
       "    </tr>\n",
       "    <tr>\n",
       "      <th>Partnership</th>\n",
       "      <td>0.050235</td>\n",
       "      <td>0.016830</td>\n",
       "      <td>0.130889</td>\n",
       "      <td>0.062781</td>\n",
       "      <td>1.000000</td>\n",
       "      <td>0.612350</td>\n",
       "      <td>0.411182</td>\n",
       "      <td>0.245580</td>\n",
       "      <td>0.077290</td>\n",
       "      <td>0.042796</td>\n",
       "      <td>0.030308</td>\n",
       "      <td>0.048454</td>\n",
       "    </tr>\n",
       "    <tr>\n",
       "      <th>Children</th>\n",
       "      <td>0.080671</td>\n",
       "      <td>0.031578</td>\n",
       "      <td>0.226406</td>\n",
       "      <td>0.009739</td>\n",
       "      <td>0.612350</td>\n",
       "      <td>1.000000</td>\n",
       "      <td>0.661449</td>\n",
       "      <td>0.263019</td>\n",
       "      <td>0.067124</td>\n",
       "      <td>-0.002945</td>\n",
       "      <td>0.003626</td>\n",
       "      <td>0.007792</td>\n",
       "    </tr>\n",
       "    <tr>\n",
       "      <th>No_of_children</th>\n",
       "      <td>0.057431</td>\n",
       "      <td>-0.018954</td>\n",
       "      <td>-0.012703</td>\n",
       "      <td>0.029789</td>\n",
       "      <td>0.411182</td>\n",
       "      <td>0.661449</td>\n",
       "      <td>1.000000</td>\n",
       "      <td>0.183727</td>\n",
       "      <td>0.039495</td>\n",
       "      <td>0.013016</td>\n",
       "      <td>0.020435</td>\n",
       "      <td>0.025760</td>\n",
       "    </tr>\n",
       "    <tr>\n",
       "      <th>Qualified</th>\n",
       "      <td>0.053758</td>\n",
       "      <td>-0.006700</td>\n",
       "      <td>0.117634</td>\n",
       "      <td>0.194539</td>\n",
       "      <td>0.245580</td>\n",
       "      <td>0.263019</td>\n",
       "      <td>0.183727</td>\n",
       "      <td>1.000000</td>\n",
       "      <td>0.191781</td>\n",
       "      <td>0.098336</td>\n",
       "      <td>0.111698</td>\n",
       "      <td>0.144195</td>\n",
       "    </tr>\n",
       "    <tr>\n",
       "      <th>Income</th>\n",
       "      <td>-0.008289</td>\n",
       "      <td>0.045941</td>\n",
       "      <td>0.130094</td>\n",
       "      <td>0.418967</td>\n",
       "      <td>0.077290</td>\n",
       "      <td>0.067124</td>\n",
       "      <td>0.039495</td>\n",
       "      <td>0.191781</td>\n",
       "      <td>1.000000</td>\n",
       "      <td>0.238678</td>\n",
       "      <td>0.289510</td>\n",
       "      <td>0.342959</td>\n",
       "    </tr>\n",
       "    <tr>\n",
       "      <th>Work_type</th>\n",
       "      <td>0.057877</td>\n",
       "      <td>0.042728</td>\n",
       "      <td>-0.016043</td>\n",
       "      <td>0.781972</td>\n",
       "      <td>0.042796</td>\n",
       "      <td>-0.002945</td>\n",
       "      <td>0.013016</td>\n",
       "      <td>0.098336</td>\n",
       "      <td>0.238678</td>\n",
       "      <td>1.000000</td>\n",
       "      <td>0.307498</td>\n",
       "      <td>0.601915</td>\n",
       "    </tr>\n",
       "    <tr>\n",
       "      <th>BDM</th>\n",
       "      <td>-0.020703</td>\n",
       "      <td>-0.006973</td>\n",
       "      <td>0.005594</td>\n",
       "      <td>0.502124</td>\n",
       "      <td>0.030308</td>\n",
       "      <td>0.003626</td>\n",
       "      <td>0.020435</td>\n",
       "      <td>0.111698</td>\n",
       "      <td>0.289510</td>\n",
       "      <td>0.307498</td>\n",
       "      <td>1.000000</td>\n",
       "      <td>0.373462</td>\n",
       "    </tr>\n",
       "    <tr>\n",
       "      <th>Industry</th>\n",
       "      <td>0.014661</td>\n",
       "      <td>0.029512</td>\n",
       "      <td>0.025641</td>\n",
       "      <td>0.738297</td>\n",
       "      <td>0.048454</td>\n",
       "      <td>0.007792</td>\n",
       "      <td>0.025760</td>\n",
       "      <td>0.144195</td>\n",
       "      <td>0.342959</td>\n",
       "      <td>0.601915</td>\n",
       "      <td>0.373462</td>\n",
       "      <td>1.000000</td>\n",
       "    </tr>\n",
       "  </tbody>\n",
       "</table>\n",
       "</div>"
      ],
      "text/plain": [
       "                  Gender     State       Age  Employment  Partnership  \\\n",
       "Gender          1.000000  0.190763  0.350472    0.049647     0.050235   \n",
       "State           0.190763  1.000000  0.259453    0.040865     0.016830   \n",
       "Age             0.350472  0.259453  1.000000    0.024473     0.130889   \n",
       "Employment      0.049647  0.040865  0.024473    1.000000     0.062781   \n",
       "Partnership     0.050235  0.016830  0.130889    0.062781     1.000000   \n",
       "Children        0.080671  0.031578  0.226406    0.009739     0.612350   \n",
       "No_of_children  0.057431 -0.018954 -0.012703    0.029789     0.411182   \n",
       "Qualified       0.053758 -0.006700  0.117634    0.194539     0.245580   \n",
       "Income         -0.008289  0.045941  0.130094    0.418967     0.077290   \n",
       "Work_type       0.057877  0.042728 -0.016043    0.781972     0.042796   \n",
       "BDM            -0.020703 -0.006973  0.005594    0.502124     0.030308   \n",
       "Industry        0.014661  0.029512  0.025641    0.738297     0.048454   \n",
       "\n",
       "                Children  No_of_children  Qualified    Income  Work_type  \\\n",
       "Gender          0.080671        0.057431   0.053758 -0.008289   0.057877   \n",
       "State           0.031578       -0.018954  -0.006700  0.045941   0.042728   \n",
       "Age             0.226406       -0.012703   0.117634  0.130094  -0.016043   \n",
       "Employment      0.009739        0.029789   0.194539  0.418967   0.781972   \n",
       "Partnership     0.612350        0.411182   0.245580  0.077290   0.042796   \n",
       "Children        1.000000        0.661449   0.263019  0.067124  -0.002945   \n",
       "No_of_children  0.661449        1.000000   0.183727  0.039495   0.013016   \n",
       "Qualified       0.263019        0.183727   1.000000  0.191781   0.098336   \n",
       "Income          0.067124        0.039495   0.191781  1.000000   0.238678   \n",
       "Work_type      -0.002945        0.013016   0.098336  0.238678   1.000000   \n",
       "BDM             0.003626        0.020435   0.111698  0.289510   0.307498   \n",
       "Industry        0.007792        0.025760   0.144195  0.342959   0.601915   \n",
       "\n",
       "                     BDM  Industry  \n",
       "Gender         -0.020703  0.014661  \n",
       "State          -0.006973  0.029512  \n",
       "Age             0.005594  0.025641  \n",
       "Employment      0.502124  0.738297  \n",
       "Partnership     0.030308  0.048454  \n",
       "Children        0.003626  0.007792  \n",
       "No_of_children  0.020435  0.025760  \n",
       "Qualified       0.111698  0.144195  \n",
       "Income          0.289510  0.342959  \n",
       "Work_type       0.307498  0.601915  \n",
       "BDM             1.000000  0.373462  \n",
       "Industry        0.373462  1.000000  "
      ]
     },
     "execution_count": 8,
     "metadata": {},
     "output_type": "execute_result"
    }
   ],
   "source": [
    "# Plot a Correlation Matrix original file:\n",
    "corr = file.corr()\n",
    "corr = (corr)\n",
    "corr"
   ]
  },
  {
   "cell_type": "code",
   "execution_count": 9,
   "metadata": {
    "collapsed": false
   },
   "outputs": [
    {
     "data": {
      "text/plain": [
       "<matplotlib.text.Text at 0x10eb60c50>"
      ]
     },
     "execution_count": 9,
     "metadata": {},
     "output_type": "execute_result"
    },
    {
     "data": {
      "image/png": "[encoded data removed]",
      "text/plain": [
       "<matplotlib.figure.Figure at 0x110d9a2b0>"
      ]
     },
     "metadata": {},
     "output_type": "display_data"
    }
   ],
   "source": [
    "#heatmap original file\n",
    "plt.figure(figsize = (10,8))\n",
    "sns.heatmap(corr, xticklabels=corr.columns.values, yticklabels=corr.columns.values)\n",
    "sns.plt.title('Heatmap of Correlation Matrix')"
   ]
  },
  {
   "cell_type": "code",
   "execution_count": 10,
   "metadata": {
    "collapsed": false
   },
   "outputs": [
    {
     "data": {
      "text/html": [
       "<div>\n",
       "<table border=\"1\" class=\"dataframe\">\n",
       "  <thead>\n",
       "    <tr style=\"text-align: right;\">\n",
       "      <th></th>\n",
       "      <th>Income</th>\n",
       "    </tr>\n",
       "  </thead>\n",
       "  <tbody>\n",
       "    <tr>\n",
       "      <th>Employment</th>\n",
       "      <td>0.418967</td>\n",
       "    </tr>\n",
       "    <tr>\n",
       "      <th>Industry</th>\n",
       "      <td>0.342959</td>\n",
       "    </tr>\n",
       "    <tr>\n",
       "      <th>BDM</th>\n",
       "      <td>0.289510</td>\n",
       "    </tr>\n",
       "    <tr>\n",
       "      <th>Work_type</th>\n",
       "      <td>0.238678</td>\n",
       "    </tr>\n",
       "    <tr>\n",
       "      <th>Qualified</th>\n",
       "      <td>0.191781</td>\n",
       "    </tr>\n",
       "    <tr>\n",
       "      <th>Age</th>\n",
       "      <td>0.130094</td>\n",
       "    </tr>\n",
       "    <tr>\n",
       "      <th>Partnership</th>\n",
       "      <td>0.077290</td>\n",
       "    </tr>\n",
       "    <tr>\n",
       "      <th>Children</th>\n",
       "      <td>0.067124</td>\n",
       "    </tr>\n",
       "    <tr>\n",
       "      <th>State</th>\n",
       "      <td>0.045941</td>\n",
       "    </tr>\n",
       "    <tr>\n",
       "      <th>No_of_children</th>\n",
       "      <td>0.039495</td>\n",
       "    </tr>\n",
       "    <tr>\n",
       "      <th>Gender</th>\n",
       "      <td>-0.008289</td>\n",
       "    </tr>\n",
       "  </tbody>\n",
       "</table>\n",
       "</div>"
      ],
      "text/plain": [
       "                  Income\n",
       "Employment      0.418967\n",
       "Industry        0.342959\n",
       "BDM             0.289510\n",
       "Work_type       0.238678\n",
       "Qualified       0.191781\n",
       "Age             0.130094\n",
       "Partnership     0.077290\n",
       "Children        0.067124\n",
       "State           0.045941\n",
       "No_of_children  0.039495\n",
       "Gender         -0.008289"
      ]
     },
     "execution_count": 10,
     "metadata": {},
     "output_type": "execute_result"
    }
   ],
   "source": [
    "#Extract 'Salary' column, because that is the target outcome original file\n",
    "corr_salary = pd.DataFrame(corr['Income'].drop('Income'))\n",
    "corr_salary.sort_values(by='Income', ascending = False )"
   ]
  },
  {
   "cell_type": "code",
   "execution_count": 11,
   "metadata": {
    "collapsed": false
   },
   "outputs": [
    {
     "data": {
      "text/plain": [
       "<matplotlib.axes._subplots.AxesSubplot at 0x10294bbe0>"
      ]
     },
     "execution_count": 11,
     "metadata": {},
     "output_type": "execute_result"
    },
    {
     "data": {
      "image/png": "[encoded data removed]",
      "text/plain": [
       "<matplotlib.figure.Figure at 0x1123b8438>"
      ]
     },
     "metadata": {},
     "output_type": "display_data"
    }
   ],
   "source": [
    "# Income with employment\n",
    "plt.figure(figsize = (20,8))\n",
    "sns.barplot(x='Employment', y = 'Income', data = file)"
   ]
  },
  {
   "cell_type": "code",
   "execution_count": 12,
   "metadata": {
    "collapsed": false
   },
   "outputs": [
    {
     "data": {
      "text/plain": [
       "<matplotlib.axes._subplots.AxesSubplot at 0x11283a588>"
      ]
     },
     "execution_count": 12,
     "metadata": {},
     "output_type": "execute_result"
    },
    {
     "data": {
      "image/png": "[encoded data removed]",
      "text/plain": [
       "<matplotlib.figure.Figure at 0x11227ac50>"
      ]
     },
     "metadata": {},
     "output_type": "display_data"
    }
   ],
   "source": [
    "# Income with gender\n",
    "plt.figure(figsize = (20,8))\n",
    "sns.barplot(x='Gender', y = 'Income', data = file)"
   ]
  },
  {
   "cell_type": "code",
   "execution_count": 13,
   "metadata": {
    "collapsed": false
   },
   "outputs": [
    {
     "data": {
      "text/plain": [
       "<matplotlib.axes._subplots.AxesSubplot at 0x10d3dad30>"
      ]
     },
     "execution_count": 13,
     "metadata": {},
     "output_type": "execute_result"
    },
    {
     "data": {
      "image/png": "[encoded data removed]",
      "text/plain": [
       "<matplotlib.figure.Figure at 0x111b665c0>"
      ]
     },
     "metadata": {},
     "output_type": "display_data"
    }
   ],
   "source": [
    "# age, gender & salary\n",
    "plt.figure(figsize = (25,10))\n",
    "sns.barplot(x='Age', y = 'Income', hue = 'Gender', data = file)"
   ]
  },
  {
   "cell_type": "code",
   "execution_count": 14,
   "metadata": {
    "collapsed": false
   },
   "outputs": [
    {
     "data": {
      "text/plain": [
       "<matplotlib.axes._subplots.AxesSubplot at 0x1121b4400>"
      ]
     },
     "execution_count": 14,
     "metadata": {},
     "output_type": "execute_result"
    },
    {
     "data": {
      "image/png": "[encoded data removed]",
      "text/plain": [
       "<matplotlib.figure.Figure at 0x1121b4438>"
      ]
     },
     "metadata": {},
     "output_type": "display_data"
    }
   ],
   "source": [
    "# work type, gender & salary\n",
    "plt.figure(figsize = (25,10))\n",
    "sns.barplot(x='Work_type', y = 'Income', hue = 'Gender', data = file)"
   ]
  },
  {
   "cell_type": "code",
   "execution_count": 15,
   "metadata": {
    "collapsed": false
   },
   "outputs": [
    {
     "data": {
      "text/plain": [
       "<matplotlib.axes._subplots.AxesSubplot at 0x1123b4e48>"
      ]
     },
     "execution_count": 15,
     "metadata": {},
     "output_type": "execute_result"
    },
    {
     "data": {
      "image/png": "[encoded data removed]",
      "text/plain": [
       "<matplotlib.figure.Figure at 0x112d84320>"
      ]
     },
     "metadata": {},
     "output_type": "display_data"
    }
   ],
   "source": [
    "# Income with age\n",
    "plt.figure(figsize = (20,8))\n",
    "sns.barplot(x='Age', y = 'Income', data = file)"
   ]
  },
  {
   "cell_type": "code",
   "execution_count": 16,
   "metadata": {
    "collapsed": false
   },
   "outputs": [
    {
     "data": {
      "text/plain": [
       "<matplotlib.axes._subplots.AxesSubplot at 0x11142e208>"
      ]
     },
     "execution_count": 16,
     "metadata": {},
     "output_type": "execute_result"
    },
    {
     "data": {
      "image/png": "[encoded data removed]",
      "text/plain": [
       "<matplotlib.figure.Figure at 0x112afb3c8>"
      ]
     },
     "metadata": {},
     "output_type": "display_data"
    }
   ],
   "source": [
    "# salary with with age and qualifications\n",
    "plt.figure(figsize = (25,10))\n",
    "sns.barplot(x='Age', y = 'Income', hue = 'Qualified', data = file)"
   ]
  },
  {
   "cell_type": "markdown",
   "metadata": {},
   "source": [
    "### Method"
   ]
  },
  {
   "cell_type": "code",
   "execution_count": 17,
   "metadata": {
    "collapsed": false
   },
   "outputs": [
    {
     "data": {
      "text/html": [
       "<div>\n",
       "<table border=\"1\" class=\"dataframe\">\n",
       "  <thead>\n",
       "    <tr style=\"text-align: right;\">\n",
       "      <th></th>\n",
       "      <th>Income</th>\n",
       "    </tr>\n",
       "  </thead>\n",
       "  <tbody>\n",
       "    <tr>\n",
       "      <th>Employment</th>\n",
       "      <td>0.418967</td>\n",
       "    </tr>\n",
       "    <tr>\n",
       "      <th>Industry</th>\n",
       "      <td>0.342959</td>\n",
       "    </tr>\n",
       "    <tr>\n",
       "      <th>BDM</th>\n",
       "      <td>0.289510</td>\n",
       "    </tr>\n",
       "    <tr>\n",
       "      <th>Work_type</th>\n",
       "      <td>0.238678</td>\n",
       "    </tr>\n",
       "    <tr>\n",
       "      <th>Qualified</th>\n",
       "      <td>0.191781</td>\n",
       "    </tr>\n",
       "    <tr>\n",
       "      <th>Age</th>\n",
       "      <td>0.130094</td>\n",
       "    </tr>\n",
       "    <tr>\n",
       "      <th>Partnership</th>\n",
       "      <td>0.077290</td>\n",
       "    </tr>\n",
       "    <tr>\n",
       "      <th>Children</th>\n",
       "      <td>0.067124</td>\n",
       "    </tr>\n",
       "    <tr>\n",
       "      <th>State</th>\n",
       "      <td>0.045941</td>\n",
       "    </tr>\n",
       "    <tr>\n",
       "      <th>No_of_children</th>\n",
       "      <td>0.039495</td>\n",
       "    </tr>\n",
       "    <tr>\n",
       "      <th>Gender</th>\n",
       "      <td>-0.008289</td>\n",
       "    </tr>\n",
       "  </tbody>\n",
       "</table>\n",
       "</div>"
      ],
      "text/plain": [
       "                  Income\n",
       "Employment      0.418967\n",
       "Industry        0.342959\n",
       "BDM             0.289510\n",
       "Work_type       0.238678\n",
       "Qualified       0.191781\n",
       "Age             0.130094\n",
       "Partnership     0.077290\n",
       "Children        0.067124\n",
       "State           0.045941\n",
       "No_of_children  0.039495\n",
       "Gender         -0.008289"
      ]
     },
     "execution_count": 17,
     "metadata": {},
     "output_type": "execute_result"
    }
   ],
   "source": [
    "#Extract 'Salary' column, because that is the target outcome original file\n",
    "corr_salary = pd.DataFrame(corr['Income'].drop('Income'))\n",
    "corr_salary.sort_values(by='Income', ascending = False)"
   ]
  },
  {
   "cell_type": "code",
   "execution_count": 18,
   "metadata": {
    "collapsed": true
   },
   "outputs": [],
   "source": [
    "# Variables that are of relevance\n",
    "    \n",
    "relevant_variables = ['Employment', 'Industry', 'BDM', 'Work_type','Age','Qualified',\n",
    "                      'Partnership','Salary','Home_status','Gender']"
   ]
  },
  {
   "cell_type": "code",
   "execution_count": 19,
   "metadata": {
    "collapsed": true
   },
   "outputs": [],
   "source": [
    "# Categorical data\n",
    "\n",
    "categorical_variables = ['Salary','Home_status']"
   ]
  },
  {
   "cell_type": "code",
   "execution_count": 20,
   "metadata": {
    "collapsed": false
   },
   "outputs": [
    {
     "data": {
      "text/html": [
       "<div>\n",
       "<table border=\"1\" class=\"dataframe\">\n",
       "  <thead>\n",
       "    <tr style=\"text-align: right;\">\n",
       "      <th></th>\n",
       "      <th>Employment</th>\n",
       "      <th>Industry</th>\n",
       "      <th>BDM</th>\n",
       "      <th>Work_type</th>\n",
       "      <th>Age</th>\n",
       "      <th>Qualified</th>\n",
       "      <th>Partnership</th>\n",
       "      <th>Salary</th>\n",
       "      <th>Home_status</th>\n",
       "      <th>Gender</th>\n",
       "    </tr>\n",
       "  </thead>\n",
       "  <tbody>\n",
       "    <tr>\n",
       "      <th>0</th>\n",
       "      <td>1</td>\n",
       "      <td>16</td>\n",
       "      <td>1</td>\n",
       "      <td>2</td>\n",
       "      <td>22</td>\n",
       "      <td>1</td>\n",
       "      <td>0</td>\n",
       "      <td>Above 80</td>\n",
       "      <td>NaN</td>\n",
       "      <td>1</td>\n",
       "    </tr>\n",
       "    <tr>\n",
       "      <th>1</th>\n",
       "      <td>0</td>\n",
       "      <td>0</td>\n",
       "      <td>0</td>\n",
       "      <td>0</td>\n",
       "      <td>0</td>\n",
       "      <td>1</td>\n",
       "      <td>0</td>\n",
       "      <td>NaN</td>\n",
       "      <td>NaN</td>\n",
       "      <td>0</td>\n",
       "    </tr>\n",
       "    <tr>\n",
       "      <th>2</th>\n",
       "      <td>1</td>\n",
       "      <td>22</td>\n",
       "      <td>1</td>\n",
       "      <td>1</td>\n",
       "      <td>57</td>\n",
       "      <td>1</td>\n",
       "      <td>1</td>\n",
       "      <td>NaN</td>\n",
       "      <td>Mortgage</td>\n",
       "      <td>2</td>\n",
       "    </tr>\n",
       "    <tr>\n",
       "      <th>3</th>\n",
       "      <td>1</td>\n",
       "      <td>23</td>\n",
       "      <td>1</td>\n",
       "      <td>1</td>\n",
       "      <td>42</td>\n",
       "      <td>1</td>\n",
       "      <td>0</td>\n",
       "      <td>Above 80</td>\n",
       "      <td>NaN</td>\n",
       "      <td>1</td>\n",
       "    </tr>\n",
       "    <tr>\n",
       "      <th>4</th>\n",
       "      <td>1</td>\n",
       "      <td>24</td>\n",
       "      <td>1</td>\n",
       "      <td>2</td>\n",
       "      <td>42</td>\n",
       "      <td>0</td>\n",
       "      <td>0</td>\n",
       "      <td>NaN</td>\n",
       "      <td>Renting</td>\n",
       "      <td>1</td>\n",
       "    </tr>\n",
       "    <tr>\n",
       "      <th>5</th>\n",
       "      <td>0</td>\n",
       "      <td>0</td>\n",
       "      <td>0</td>\n",
       "      <td>0</td>\n",
       "      <td>0</td>\n",
       "      <td>1</td>\n",
       "      <td>0</td>\n",
       "      <td>NaN</td>\n",
       "      <td>NaN</td>\n",
       "      <td>0</td>\n",
       "    </tr>\n",
       "    <tr>\n",
       "      <th>6</th>\n",
       "      <td>0</td>\n",
       "      <td>0</td>\n",
       "      <td>0</td>\n",
       "      <td>0</td>\n",
       "      <td>0</td>\n",
       "      <td>1</td>\n",
       "      <td>0</td>\n",
       "      <td>NaN</td>\n",
       "      <td>NaN</td>\n",
       "      <td>0</td>\n",
       "    </tr>\n",
       "    <tr>\n",
       "      <th>7</th>\n",
       "      <td>0</td>\n",
       "      <td>0</td>\n",
       "      <td>0</td>\n",
       "      <td>0</td>\n",
       "      <td>37</td>\n",
       "      <td>0</td>\n",
       "      <td>0</td>\n",
       "      <td>NaN</td>\n",
       "      <td>NaN</td>\n",
       "      <td>2</td>\n",
       "    </tr>\n",
       "    <tr>\n",
       "      <th>8</th>\n",
       "      <td>0</td>\n",
       "      <td>0</td>\n",
       "      <td>0</td>\n",
       "      <td>0</td>\n",
       "      <td>67</td>\n",
       "      <td>0</td>\n",
       "      <td>0</td>\n",
       "      <td>NaN</td>\n",
       "      <td>NaN</td>\n",
       "      <td>1</td>\n",
       "    </tr>\n",
       "    <tr>\n",
       "      <th>9</th>\n",
       "      <td>1</td>\n",
       "      <td>19</td>\n",
       "      <td>1</td>\n",
       "      <td>2</td>\n",
       "      <td>57</td>\n",
       "      <td>0</td>\n",
       "      <td>0</td>\n",
       "      <td>Above 80</td>\n",
       "      <td>Mortgage</td>\n",
       "      <td>1</td>\n",
       "    </tr>\n",
       "  </tbody>\n",
       "</table>\n",
       "</div>"
      ],
      "text/plain": [
       "   Employment  Industry  BDM  Work_type  Age  Qualified  Partnership  \\\n",
       "0           1        16    1          2   22          1            0   \n",
       "1           0         0    0          0    0          1            0   \n",
       "2           1        22    1          1   57          1            1   \n",
       "3           1        23    1          1   42          1            0   \n",
       "4           1        24    1          2   42          0            0   \n",
       "5           0         0    0          0    0          1            0   \n",
       "6           0         0    0          0    0          1            0   \n",
       "7           0         0    0          0   37          0            0   \n",
       "8           0         0    0          0   67          0            0   \n",
       "9           1        19    1          2   57          0            0   \n",
       "\n",
       "     Salary Home_status  Gender  \n",
       "0  Above 80         NaN       1  \n",
       "1       NaN         NaN       0  \n",
       "2       NaN    Mortgage       2  \n",
       "3  Above 80         NaN       1  \n",
       "4       NaN     Renting       1  \n",
       "5       NaN         NaN       0  \n",
       "6       NaN         NaN       0  \n",
       "7       NaN         NaN       2  \n",
       "8       NaN         NaN       1  \n",
       "9  Above 80    Mortgage       1  "
      ]
     },
     "execution_count": 20,
     "metadata": {},
     "output_type": "execute_result"
    }
   ],
   "source": [
    "# define your data set\n",
    "\n",
    "df = file.loc[:, relevant_variables]\n",
    "df.head(10)"
   ]
  },
  {
   "cell_type": "code",
   "execution_count": 31,
   "metadata": {
    "collapsed": false
   },
   "outputs": [
    {
     "data": {
      "text/html": [
       "<div>\n",
       "<table border=\"1\" class=\"dataframe\">\n",
       "  <thead>\n",
       "    <tr style=\"text-align: right;\">\n",
       "      <th></th>\n",
       "      <th>Employment</th>\n",
       "      <th>Industry</th>\n",
       "      <th>BDM</th>\n",
       "      <th>Work_type</th>\n",
       "      <th>Age</th>\n",
       "      <th>Qualified</th>\n",
       "      <th>Partnership</th>\n",
       "      <th>Salary</th>\n",
       "      <th>Home_status</th>\n",
       "      <th>Gender</th>\n",
       "    </tr>\n",
       "  </thead>\n",
       "  <tbody>\n",
       "    <tr>\n",
       "      <th>0</th>\n",
       "      <td>1</td>\n",
       "      <td>16</td>\n",
       "      <td>1</td>\n",
       "      <td>2</td>\n",
       "      <td>22</td>\n",
       "      <td>1</td>\n",
       "      <td>0</td>\n",
       "      <td>1</td>\n",
       "      <td>0</td>\n",
       "      <td>1</td>\n",
       "    </tr>\n",
       "    <tr>\n",
       "      <th>1</th>\n",
       "      <td>0</td>\n",
       "      <td>0</td>\n",
       "      <td>0</td>\n",
       "      <td>0</td>\n",
       "      <td>0</td>\n",
       "      <td>1</td>\n",
       "      <td>0</td>\n",
       "      <td>0</td>\n",
       "      <td>0</td>\n",
       "      <td>0</td>\n",
       "    </tr>\n",
       "    <tr>\n",
       "      <th>2</th>\n",
       "      <td>1</td>\n",
       "      <td>22</td>\n",
       "      <td>1</td>\n",
       "      <td>1</td>\n",
       "      <td>57</td>\n",
       "      <td>1</td>\n",
       "      <td>1</td>\n",
       "      <td>0</td>\n",
       "      <td>2</td>\n",
       "      <td>2</td>\n",
       "    </tr>\n",
       "    <tr>\n",
       "      <th>3</th>\n",
       "      <td>1</td>\n",
       "      <td>23</td>\n",
       "      <td>1</td>\n",
       "      <td>1</td>\n",
       "      <td>42</td>\n",
       "      <td>1</td>\n",
       "      <td>0</td>\n",
       "      <td>1</td>\n",
       "      <td>0</td>\n",
       "      <td>1</td>\n",
       "    </tr>\n",
       "    <tr>\n",
       "      <th>4</th>\n",
       "      <td>1</td>\n",
       "      <td>24</td>\n",
       "      <td>1</td>\n",
       "      <td>2</td>\n",
       "      <td>42</td>\n",
       "      <td>0</td>\n",
       "      <td>0</td>\n",
       "      <td>0</td>\n",
       "      <td>4</td>\n",
       "      <td>1</td>\n",
       "    </tr>\n",
       "    <tr>\n",
       "      <th>5</th>\n",
       "      <td>0</td>\n",
       "      <td>0</td>\n",
       "      <td>0</td>\n",
       "      <td>0</td>\n",
       "      <td>0</td>\n",
       "      <td>1</td>\n",
       "      <td>0</td>\n",
       "      <td>0</td>\n",
       "      <td>0</td>\n",
       "      <td>0</td>\n",
       "    </tr>\n",
       "    <tr>\n",
       "      <th>6</th>\n",
       "      <td>0</td>\n",
       "      <td>0</td>\n",
       "      <td>0</td>\n",
       "      <td>0</td>\n",
       "      <td>0</td>\n",
       "      <td>1</td>\n",
       "      <td>0</td>\n",
       "      <td>0</td>\n",
       "      <td>0</td>\n",
       "      <td>0</td>\n",
       "    </tr>\n",
       "    <tr>\n",
       "      <th>7</th>\n",
       "      <td>0</td>\n",
       "      <td>0</td>\n",
       "      <td>0</td>\n",
       "      <td>0</td>\n",
       "      <td>37</td>\n",
       "      <td>0</td>\n",
       "      <td>0</td>\n",
       "      <td>0</td>\n",
       "      <td>0</td>\n",
       "      <td>2</td>\n",
       "    </tr>\n",
       "    <tr>\n",
       "      <th>8</th>\n",
       "      <td>0</td>\n",
       "      <td>0</td>\n",
       "      <td>0</td>\n",
       "      <td>0</td>\n",
       "      <td>67</td>\n",
       "      <td>0</td>\n",
       "      <td>0</td>\n",
       "      <td>0</td>\n",
       "      <td>0</td>\n",
       "      <td>1</td>\n",
       "    </tr>\n",
       "    <tr>\n",
       "      <th>9</th>\n",
       "      <td>1</td>\n",
       "      <td>19</td>\n",
       "      <td>1</td>\n",
       "      <td>2</td>\n",
       "      <td>57</td>\n",
       "      <td>0</td>\n",
       "      <td>0</td>\n",
       "      <td>1</td>\n",
       "      <td>2</td>\n",
       "      <td>1</td>\n",
       "    </tr>\n",
       "  </tbody>\n",
       "</table>\n",
       "</div>"
      ],
      "text/plain": [
       "   Employment  Industry  BDM  Work_type  Age  Qualified  Partnership  Salary  \\\n",
       "0           1        16    1          2   22          1            0       1   \n",
       "1           0         0    0          0    0          1            0       0   \n",
       "2           1        22    1          1   57          1            1       0   \n",
       "3           1        23    1          1   42          1            0       1   \n",
       "4           1        24    1          2   42          0            0       0   \n",
       "5           0         0    0          0    0          1            0       0   \n",
       "6           0         0    0          0    0          1            0       0   \n",
       "7           0         0    0          0   37          0            0       0   \n",
       "8           0         0    0          0   67          0            0       0   \n",
       "9           1        19    1          2   57          0            0       1   \n",
       "\n",
       "   Home_status  Gender  \n",
       "0            0       1  \n",
       "1            0       0  \n",
       "2            2       2  \n",
       "3            0       1  \n",
       "4            4       1  \n",
       "5            0       0  \n",
       "6            0       0  \n",
       "7            0       2  \n",
       "8            0       1  \n",
       "9            2       1  "
      ]
     },
     "execution_count": 31,
     "metadata": {},
     "output_type": "execute_result"
    }
   ],
   "source": [
    "# Change categorical variables to numeric\n",
    "\n",
    "features_categorical = ['Salary','Home_status']\n",
    "\n",
    "for c in features_categorical:\n",
    "    df[c] = pd.Categorical(df[c]).codes\n",
    "\n",
    "df.head(10)"
   ]
  },
  {
   "cell_type": "code",
   "execution_count": 32,
   "metadata": {
    "collapsed": false
   },
   "outputs": [],
   "source": [
    "# define features and target or outcome\n",
    "features = ['Home_status', 'Employment','Qualified', 'Work_type', 'BDM', 'Industry',\n",
    "            'Age','Partnership', 'Gender']\n",
    "target = 'Salary'"
   ]
  },
  {
   "cell_type": "code",
   "execution_count": 33,
   "metadata": {
    "collapsed": true
   },
   "outputs": [],
   "source": [
    "# Classifier\n",
    "from sklearn.tree import DecisionTreeClassifier\n",
    "\n",
    "# Instantiate the classifier\n",
    "classifier = DecisionTreeClassifier(random_state=1)"
   ]
  },
  {
   "cell_type": "markdown",
   "metadata": {},
   "source": [
    "# Split and train data"
   ]
  },
  {
   "cell_type": "code",
   "execution_count": 34,
   "metadata": {
    "collapsed": true
   },
   "outputs": [],
   "source": [
    "import math"
   ]
  },
  {
   "cell_type": "code",
   "execution_count": 35,
   "metadata": {
    "collapsed": false
   },
   "outputs": [],
   "source": [
    "# train & split data\n",
    "# Set a random seed so the shuffle is the same every time\n",
    "np.random.seed(1)\n",
    "\n",
    "# Shuffle the rows  - This permutes the index randomly using numpy.random.permutation. Then, it reindexes the dataframe with the result. The net effect is to put the rows into random order\n",
    "Salary = df.reindex(np.random.permutation(df.index))\n",
    "\n",
    "# 80% to train and 20% to test\n",
    "train_max_row = math.floor(Salary.shape[0] * .8)\n",
    "\n",
    "train = Salary.iloc[:train_max_row, :]\n",
    "test = Salary.iloc[train_max_row:, :]"
   ]
  },
  {
   "cell_type": "markdown",
   "metadata": {},
   "source": [
    "# Decision tree"
   ]
  },
  {
   "cell_type": "markdown",
   "metadata": {},
   "source": [
    "### Fit model"
   ]
  },
  {
   "cell_type": "code",
   "execution_count": 36,
   "metadata": {
    "collapsed": false
   },
   "outputs": [
    {
     "data": {
      "text/plain": [
       "DecisionTreeClassifier(class_weight=None, criterion='gini', max_depth=None,\n",
       "            max_features=None, max_leaf_nodes=None,\n",
       "            min_impurity_split=1e-07, min_samples_leaf=1,\n",
       "            min_samples_split=2, min_weight_fraction_leaf=0.0,\n",
       "            presort=False, random_state=1, splitter='best')"
      ]
     },
     "execution_count": 36,
     "metadata": {},
     "output_type": "execute_result"
    }
   ],
   "source": [
    "classifier.fit(train[features], train[target])"
   ]
  },
  {
   "cell_type": "markdown",
   "metadata": {},
   "source": [
    "### Make predictions"
   ]
  },
  {
   "cell_type": "code",
   "execution_count": 37,
   "metadata": {
    "collapsed": false
   },
   "outputs": [
    {
     "data": {
      "text/plain": [
       "array([0, 0], dtype=int8)"
      ]
     },
     "execution_count": 37,
     "metadata": {},
     "output_type": "execute_result"
    }
   ],
   "source": [
    "predictions = classifier.predict(test[features])\n",
    "predictions[:2]"
   ]
  },
  {
   "cell_type": "code",
   "execution_count": 38,
   "metadata": {
    "collapsed": false
   },
   "outputs": [
    {
     "data": {
      "text/plain": [
       "array([0, 0, 0, ..., 1, 0, 0], dtype=int8)"
      ]
     },
     "execution_count": 38,
     "metadata": {},
     "output_type": "execute_result"
    }
   ],
   "source": [
    "predictions"
   ]
  },
  {
   "cell_type": "markdown",
   "metadata": {},
   "source": [
    "### Test"
   ]
  },
  {
   "cell_type": "code",
   "execution_count": 39,
   "metadata": {
    "collapsed": true
   },
   "outputs": [],
   "source": [
    "# Calculating the area under the curve\n",
    "\n",
    "from sklearn.metrics import roc_auc_score"
   ]
  },
  {
   "cell_type": "code",
   "execution_count": 40,
   "metadata": {
    "collapsed": false
   },
   "outputs": [
    {
     "name": "stdout",
     "output_type": "stream",
     "text": [
      "0.608960029048\n"
     ]
    }
   ],
   "source": [
    "test_auc = roc_auc_score(test[target], predictions)\n",
    "\n",
    "print(test_auc)"
   ]
  },
  {
   "cell_type": "code",
   "execution_count": 41,
   "metadata": {
    "collapsed": false
   },
   "outputs": [
    {
     "name": "stdout",
     "output_type": "stream",
     "text": [
      "0.792767534575\n"
     ]
    }
   ],
   "source": [
    "# test of overfitting using area under the curve for the training data\n",
    "train_predictions = classifier.predict(train[features])\n",
    "\n",
    "train_auc = roc_auc_score(train[target], train_predictions)\n",
    "\n",
    "print(train_auc)"
   ]
  },
  {
   "cell_type": "markdown",
   "metadata": {},
   "source": [
    "### Tree depth restrictions"
   ]
  },
  {
   "cell_type": "code",
   "execution_count": 42,
   "metadata": {
    "collapsed": true
   },
   "outputs": [],
   "source": [
    "def get_aucs(max_depth):\n",
    "    # Decision trees model with max_depth \n",
    "    clf = DecisionTreeClassifier(random_state=1, max_depth=max_depth)\n",
    "\n",
    "    clf.fit(train[features], train[target])\n",
    "\n",
    "    # Test AUC\n",
    "    predictions = clf.predict(test[features])\n",
    "    test_auc = roc_auc_score(test[target], predictions)\n",
    "\n",
    "    # Train AUC\n",
    "    predictions_train = clf.predict(train[features])\n",
    "    train_auc = roc_auc_score(train[target], predictions_train)\n",
    "    \n",
    "    return test_auc, train_auc\n",
    "\n",
    "depth_values = np.arange(2, 40)\n",
    "auc_values = np.zeros((len(depth_values), 3))\n",
    "for i, val in enumerate(depth_values):\n",
    "    test_auc, train_auc = get_aucs(val)\n",
    "    auc_values[i, 0]  = val\n",
    "    auc_values[i, 1]  = test_auc\n",
    "    auc_values[i, 2]  = train_auc"
   ]
  },
  {
   "cell_type": "code",
   "execution_count": 43,
   "metadata": {
    "collapsed": false
   },
   "outputs": [
    {
     "data": {
      "image/png": "[encoded data removed]",
      "text/plain": [
       "<matplotlib.figure.Figure at 0x10cc01fd0>"
      ]
     },
     "metadata": {},
     "output_type": "display_data"
    }
   ],
   "source": [
    "import matplotlib.pyplot as plt\n",
    "%matplotlib inline \n",
    "plt.style.use('ggplot')\n",
    "plt.rcParams.update({'font.size': 16})\n",
    "\n",
    "plt.figure(figsize=(8,4))\n",
    "plt.plot(auc_values[:,0], auc_values[:,1], label='Test AUC') \n",
    "plt.plot(auc_values[:,0], auc_values[:,2], color='c', label='Train AUC')\n",
    "plt.legend()\n",
    "plt.xlabel('Maximum Tree Depth')\n",
    "plt.ylabel('AUC')\n",
    "\n",
    "plt.show()"
   ]
  },
  {
   "cell_type": "code",
   "execution_count": 47,
   "metadata": {
    "collapsed": false
   },
   "outputs": [
    {
     "data": {
      "text/plain": [
       "DecisionTreeClassifier(class_weight=None, criterion='gini', max_depth=11,\n",
       "            max_features=None, max_leaf_nodes=None,\n",
       "            min_impurity_split=1e-07, min_samples_leaf=1,\n",
       "            min_samples_split=2, min_weight_fraction_leaf=0.0,\n",
       "            presort=False, random_state=1, splitter='best')"
      ]
     },
     "execution_count": 47,
     "metadata": {},
     "output_type": "execute_result"
    }
   ],
   "source": [
    "clf = DecisionTreeClassifier(random_state=1, max_depth=11)\n",
    "clf.fit(train[features], train[target])"
   ]
  },
  {
   "cell_type": "code",
   "execution_count": 48,
   "metadata": {
    "collapsed": false
   },
   "outputs": [
    {
     "name": "stdout",
     "output_type": "stream",
     "text": [
      "0.623390778083\n"
     ]
    }
   ],
   "source": [
    "train_pred = clf.predict(train[features])\n",
    "\n",
    "train_auc = roc_auc_score(train[target], train_pred)\n",
    "\n",
    "print(train_auc)"
   ]
  },
  {
   "cell_type": "code",
   "execution_count": 49,
   "metadata": {
    "collapsed": false
   },
   "outputs": [
    {
     "name": "stdout",
     "output_type": "stream",
     "text": [
      "0.570250501688\n"
     ]
    }
   ],
   "source": [
    "pred = clf.predict(test[features])\n",
    "test_auc = roc_auc_score(test[target], pred)\n",
    "print(test_auc)"
   ]
  },
  {
   "cell_type": "markdown",
   "metadata": {},
   "source": [
    "# NEXT STEPS"
   ]
  },
  {
   "cell_type": "markdown",
   "metadata": {},
   "source": [
    "* Use logistic regression\n",
    "* Use random forest\n",
    "\n",
    "\n",
    "* Decrease tree depth restriction to prevent over-fitting\n",
    "* Idenfity additional variables that have higher correlation to salary\n",
    "* Potentially remove other variables in the existing model that have lower correlation with salary"
   ]
  },
  {
   "cell_type": "markdown",
   "metadata": {},
   "source": [
    "# Logistic regression"
   ]
  },
  {
   "cell_type": "code",
   "execution_count": null,
   "metadata": {
    "collapsed": true
   },
   "outputs": [],
   "source": []
  },
  {
   "cell_type": "markdown",
   "metadata": {},
   "source": [
    "# Random Forest"
   ]
  },
  {
   "cell_type": "code",
   "execution_count": null,
   "metadata": {
    "collapsed": true
   },
   "outputs": [],
   "source": []
  }
 ],
 "metadata": {
  "kernelspec": {
   "display_name": "Python 3",
   "language": "python",
   "name": "python3"
  },
  "language_info": {
   "codemirror_mode": {
    "name": "ipython",
    "version": 3
   },
   "file_extension": ".py",
   "mimetype": "text/x-python",
   "name": "python",
   "nbconvert_exporter": "python",
   "pygments_lexer": "ipython3",
   "version": "3.6.0"
  }
 },
 "nbformat": 4,
 "nbformat_minor": 2
}
